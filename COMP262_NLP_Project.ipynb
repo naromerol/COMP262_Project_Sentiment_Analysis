{
 "cells": [
  {
   "cell_type": "markdown",
   "id": "cec40d17",
   "metadata": {},
   "source": [
    "## Sentiment Anylisis Model - Musical Instruments Review\n",
    "### COMP262 - Group 3\n",
    "### Team Members\n",
    "\n",
    "- Devanshi Shah\n",
    "- Hitesh Dharmadhikari\n",
    "- Jefil Tasna John Mohan\n",
    "- Nestor Romero\n",
    "- Shrikant Kale"
   ]
  },
  {
   "cell_type": "markdown",
   "id": "e8308b8c",
   "metadata": {},
   "source": [
    "### 1. Dataset data exploration"
   ]
  },
  {
   "cell_type": "code",
   "execution_count": 1,
   "id": "ce849331",
   "metadata": {},
   "outputs": [],
   "source": [
    "import json\n",
    "import pandas as pd\n",
    "df = pd.read_json(r'Musical_Instruments_5.json',lines = True)"
   ]
  },
  {
   "cell_type": "markdown",
   "id": "32329a70",
   "metadata": {},
   "source": [
    "1. reviewerID - ID of the reviewer, e.g. A2SUAM1J3GNN3B\n",
    "2. asin - ID of the product, e.g. 0000013714\n",
    "3. reviewerName - name of the reviewer\n",
    "4. helpful - helpfulness rating of the review, e.g. 2/3\n",
    "5. reviewText - text of the review\n",
    "6. overall - rating of the product\n",
    "7. summary - summary of the review\n",
    "8. unixReviewTime - time of the review (unix time)\n",
    "9. reviewTime - time of the review (raw)"
   ]
  },
  {
   "cell_type": "code",
   "execution_count": 2,
   "id": "330c2338",
   "metadata": {},
   "outputs": [
    {
     "name": "stdout",
     "output_type": "stream",
     "text": [
      "<class 'pandas.core.frame.DataFrame'>\n",
      "RangeIndex: 10261 entries, 0 to 10260\n",
      "Data columns (total 9 columns):\n",
      " #   Column          Non-Null Count  Dtype \n",
      "---  ------          --------------  ----- \n",
      " 0   reviewerID      10261 non-null  object\n",
      " 1   asin            10261 non-null  object\n",
      " 2   reviewerName    10234 non-null  object\n",
      " 3   helpful         10261 non-null  object\n",
      " 4   reviewText      10261 non-null  object\n",
      " 5   overall         10261 non-null  int64 \n",
      " 6   summary         10261 non-null  object\n",
      " 7   unixReviewTime  10261 non-null  int64 \n",
      " 8   reviewTime      10261 non-null  object\n",
      "dtypes: int64(2), object(7)\n",
      "memory usage: 721.6+ KB\n"
     ]
    }
   ],
   "source": [
    "df.shape\n",
    "df.info()"
   ]
  },
  {
   "cell_type": "code",
   "execution_count": 3,
   "id": "7d6b839e",
   "metadata": {},
   "outputs": [
    {
     "data": {
      "text/html": [
       "<div>\n",
       "<style scoped>\n",
       "    .dataframe tbody tr th:only-of-type {\n",
       "        vertical-align: middle;\n",
       "    }\n",
       "\n",
       "    .dataframe tbody tr th {\n",
       "        vertical-align: top;\n",
       "    }\n",
       "\n",
       "    .dataframe thead th {\n",
       "        text-align: right;\n",
       "    }\n",
       "</style>\n",
       "<table border=\"1\" class=\"dataframe\">\n",
       "  <thead>\n",
       "    <tr style=\"text-align: right;\">\n",
       "      <th></th>\n",
       "      <th>overall</th>\n",
       "      <th>unixReviewTime</th>\n",
       "    </tr>\n",
       "  </thead>\n",
       "  <tbody>\n",
       "    <tr>\n",
       "      <th>count</th>\n",
       "      <td>10261.000000</td>\n",
       "      <td>1.026100e+04</td>\n",
       "    </tr>\n",
       "    <tr>\n",
       "      <th>mean</th>\n",
       "      <td>4.488744</td>\n",
       "      <td>1.360606e+09</td>\n",
       "    </tr>\n",
       "    <tr>\n",
       "      <th>std</th>\n",
       "      <td>0.894642</td>\n",
       "      <td>3.779735e+07</td>\n",
       "    </tr>\n",
       "    <tr>\n",
       "      <th>min</th>\n",
       "      <td>1.000000</td>\n",
       "      <td>1.095466e+09</td>\n",
       "    </tr>\n",
       "    <tr>\n",
       "      <th>25%</th>\n",
       "      <td>4.000000</td>\n",
       "      <td>1.343434e+09</td>\n",
       "    </tr>\n",
       "    <tr>\n",
       "      <th>50%</th>\n",
       "      <td>5.000000</td>\n",
       "      <td>1.368490e+09</td>\n",
       "    </tr>\n",
       "    <tr>\n",
       "      <th>75%</th>\n",
       "      <td>5.000000</td>\n",
       "      <td>1.388966e+09</td>\n",
       "    </tr>\n",
       "    <tr>\n",
       "      <th>max</th>\n",
       "      <td>5.000000</td>\n",
       "      <td>1.405987e+09</td>\n",
       "    </tr>\n",
       "  </tbody>\n",
       "</table>\n",
       "</div>"
      ],
      "text/plain": [
       "            overall  unixReviewTime\n",
       "count  10261.000000    1.026100e+04\n",
       "mean       4.488744    1.360606e+09\n",
       "std        0.894642    3.779735e+07\n",
       "min        1.000000    1.095466e+09\n",
       "25%        4.000000    1.343434e+09\n",
       "50%        5.000000    1.368490e+09\n",
       "75%        5.000000    1.388966e+09\n",
       "max        5.000000    1.405987e+09"
      ]
     },
     "execution_count": 3,
     "metadata": {},
     "output_type": "execute_result"
    }
   ],
   "source": [
    "df.describe()"
   ]
  },
  {
   "cell_type": "code",
   "execution_count": 4,
   "id": "86982a34",
   "metadata": {
    "scrolled": true
   },
   "outputs": [
    {
     "data": {
      "text/html": [
       "<div>\n",
       "<style scoped>\n",
       "    .dataframe tbody tr th:only-of-type {\n",
       "        vertical-align: middle;\n",
       "    }\n",
       "\n",
       "    .dataframe tbody tr th {\n",
       "        vertical-align: top;\n",
       "    }\n",
       "\n",
       "    .dataframe thead th {\n",
       "        text-align: right;\n",
       "    }\n",
       "</style>\n",
       "<table border=\"1\" class=\"dataframe\">\n",
       "  <thead>\n",
       "    <tr style=\"text-align: right;\">\n",
       "      <th></th>\n",
       "      <th>reviewerID</th>\n",
       "      <th>asin</th>\n",
       "      <th>reviewerName</th>\n",
       "      <th>helpful</th>\n",
       "      <th>reviewText</th>\n",
       "      <th>overall</th>\n",
       "      <th>summary</th>\n",
       "      <th>unixReviewTime</th>\n",
       "      <th>reviewTime</th>\n",
       "    </tr>\n",
       "  </thead>\n",
       "  <tbody>\n",
       "    <tr>\n",
       "      <th>0</th>\n",
       "      <td>A2IBPI20UZIR0U</td>\n",
       "      <td>1384719342</td>\n",
       "      <td>cassandra tu \"Yeah, well, that's just like, u...</td>\n",
       "      <td>[0, 0]</td>\n",
       "      <td>Not much to write about here, but it does exac...</td>\n",
       "      <td>5</td>\n",
       "      <td>good</td>\n",
       "      <td>1393545600</td>\n",
       "      <td>02 28, 2014</td>\n",
       "    </tr>\n",
       "    <tr>\n",
       "      <th>1</th>\n",
       "      <td>A14VAT5EAX3D9S</td>\n",
       "      <td>1384719342</td>\n",
       "      <td>Jake</td>\n",
       "      <td>[13, 14]</td>\n",
       "      <td>The product does exactly as it should and is q...</td>\n",
       "      <td>5</td>\n",
       "      <td>Jake</td>\n",
       "      <td>1363392000</td>\n",
       "      <td>03 16, 2013</td>\n",
       "    </tr>\n",
       "    <tr>\n",
       "      <th>2</th>\n",
       "      <td>A195EZSQDW3E21</td>\n",
       "      <td>1384719342</td>\n",
       "      <td>Rick Bennette \"Rick Bennette\"</td>\n",
       "      <td>[1, 1]</td>\n",
       "      <td>The primary job of this device is to block the...</td>\n",
       "      <td>5</td>\n",
       "      <td>It Does The Job Well</td>\n",
       "      <td>1377648000</td>\n",
       "      <td>08 28, 2013</td>\n",
       "    </tr>\n",
       "    <tr>\n",
       "      <th>3</th>\n",
       "      <td>A2C00NNG1ZQQG2</td>\n",
       "      <td>1384719342</td>\n",
       "      <td>RustyBill \"Sunday Rocker\"</td>\n",
       "      <td>[0, 0]</td>\n",
       "      <td>Nice windscreen protects my MXL mic and preven...</td>\n",
       "      <td>5</td>\n",
       "      <td>GOOD WINDSCREEN FOR THE MONEY</td>\n",
       "      <td>1392336000</td>\n",
       "      <td>02 14, 2014</td>\n",
       "    </tr>\n",
       "    <tr>\n",
       "      <th>4</th>\n",
       "      <td>A94QU4C90B1AX</td>\n",
       "      <td>1384719342</td>\n",
       "      <td>SEAN MASLANKA</td>\n",
       "      <td>[0, 0]</td>\n",
       "      <td>This pop filter is great. It looks and perform...</td>\n",
       "      <td>5</td>\n",
       "      <td>No more pops when I record my vocals.</td>\n",
       "      <td>1392940800</td>\n",
       "      <td>02 21, 2014</td>\n",
       "    </tr>\n",
       "  </tbody>\n",
       "</table>\n",
       "</div>"
      ],
      "text/plain": [
       "       reviewerID        asin  \\\n",
       "0  A2IBPI20UZIR0U  1384719342   \n",
       "1  A14VAT5EAX3D9S  1384719342   \n",
       "2  A195EZSQDW3E21  1384719342   \n",
       "3  A2C00NNG1ZQQG2  1384719342   \n",
       "4   A94QU4C90B1AX  1384719342   \n",
       "\n",
       "                                       reviewerName   helpful  \\\n",
       "0  cassandra tu \"Yeah, well, that's just like, u...    [0, 0]   \n",
       "1                                              Jake  [13, 14]   \n",
       "2                     Rick Bennette \"Rick Bennette\"    [1, 1]   \n",
       "3                         RustyBill \"Sunday Rocker\"    [0, 0]   \n",
       "4                                     SEAN MASLANKA    [0, 0]   \n",
       "\n",
       "                                          reviewText  overall  \\\n",
       "0  Not much to write about here, but it does exac...        5   \n",
       "1  The product does exactly as it should and is q...        5   \n",
       "2  The primary job of this device is to block the...        5   \n",
       "3  Nice windscreen protects my MXL mic and preven...        5   \n",
       "4  This pop filter is great. It looks and perform...        5   \n",
       "\n",
       "                                 summary  unixReviewTime   reviewTime  \n",
       "0                                   good      1393545600  02 28, 2014  \n",
       "1                                   Jake      1363392000  03 16, 2013  \n",
       "2                   It Does The Job Well      1377648000  08 28, 2013  \n",
       "3          GOOD WINDSCREEN FOR THE MONEY      1392336000  02 14, 2014  \n",
       "4  No more pops when I record my vocals.      1392940800  02 21, 2014  "
      ]
     },
     "execution_count": 4,
     "metadata": {},
     "output_type": "execute_result"
    }
   ],
   "source": [
    "df.head()"
   ]
  },
  {
   "cell_type": "markdown",
   "id": "dd5305c4",
   "metadata": {},
   "source": [
    "### 1a. Counts, averages"
   ]
  },
  {
   "cell_type": "code",
   "execution_count": 5,
   "id": "a757d611",
   "metadata": {},
   "outputs": [
    {
     "data": {
      "text/plain": [
       "reviewerID        10261\n",
       "asin              10261\n",
       "reviewerName      10234\n",
       "helpful           10261\n",
       "reviewText        10261\n",
       "overall           10261\n",
       "summary           10261\n",
       "unixReviewTime    10261\n",
       "reviewTime        10261\n",
       "dtype: int64"
      ]
     },
     "execution_count": 5,
     "metadata": {},
     "output_type": "execute_result"
    }
   ],
   "source": [
    "# Column counts\n",
    "df.count()"
   ]
  },
  {
   "cell_type": "code",
   "execution_count": 6,
   "id": "01303836",
   "metadata": {},
   "outputs": [
    {
     "data": {
      "text/plain": [
       "5    6938\n",
       "4    2084\n",
       "3     772\n",
       "2     250\n",
       "1     217\n",
       "Name: overall, dtype: int64"
      ]
     },
     "execution_count": 6,
     "metadata": {},
     "output_type": "execute_result"
    }
   ],
   "source": [
    "# Frequency for overall ratings\n",
    "df.overall.value_counts()"
   ]
  },
  {
   "cell_type": "code",
   "execution_count": 7,
   "id": "91b5f18e",
   "metadata": {},
   "outputs": [
    {
     "data": {
      "text/plain": [
       "4.488743787155248"
      ]
     },
     "execution_count": 7,
     "metadata": {},
     "output_type": "execute_result"
    }
   ],
   "source": [
    "df['overall'].mean()"
   ]
  },
  {
   "cell_type": "markdown",
   "id": "9e4dea7c",
   "metadata": {},
   "source": [
    "### 1b. Distribution of number of reviews across products"
   ]
  },
  {
   "cell_type": "code",
   "execution_count": null,
   "id": "419188b5",
   "metadata": {
    "scrolled": true
   },
   "outputs": [],
   "source": [
    "import seaborn as sns\n",
    "import matplotlib.pyplot as plt\n",
    "\n",
    "### Create auxiliary review text length column\n",
    "df['reviewTextLength'] = df['reviewText'].apply(len)\n",
    "\n",
    "### Create auxiliary helpful rating field\n",
    "def create_helpful_rating(value):\n",
    "    if(value[1] > 0):\n",
    "        return value[0]/value[1]\n",
    "    return 0\n",
    "\n",
    "df['helpful_rating'] = df['helpful'].apply(create_helpful_rating)\n",
    "\n",
    "sns.pairplot(df)"
   ]
  },
  {
   "cell_type": "code",
   "execution_count": null,
   "id": "2046e343",
   "metadata": {},
   "outputs": [],
   "source": [
    "num_bin=100\n",
    "plt.hist(df['overall'],num_bin,alpha=0.5)\n",
    "plt.title('Product Rating')\n",
    "plt.xlabel(\"Rating\")\n",
    "plt.ylabel(\"Products\")\n",
    "plt.show()"
   ]
  },
  {
   "cell_type": "markdown",
   "id": "076d12bd",
   "metadata": {},
   "source": [
    "### 1c. Distribution of the number of reviews per product"
   ]
  },
  {
   "cell_type": "code",
   "execution_count": null,
   "id": "e81785b9",
   "metadata": {},
   "outputs": [],
   "source": [
    "# Frequency for products\n",
    "df.asin.value_counts()"
   ]
  },
  {
   "cell_type": "code",
   "execution_count": null,
   "id": "b0ac6585",
   "metadata": {},
   "outputs": [],
   "source": [
    "# Total number of products\n",
    "df.asin.nunique()"
   ]
  },
  {
   "cell_type": "code",
   "execution_count": null,
   "id": "4f30f5b5",
   "metadata": {},
   "outputs": [],
   "source": [
    "highestRatedProduct=df.loc[df['asin'] == \"B003VWJ2K8\"]\n",
    "highestRatedProduct[\"overall\"].value_counts()"
   ]
  },
  {
   "cell_type": "code",
   "execution_count": null,
   "id": "17d2e8b5",
   "metadata": {
    "scrolled": true
   },
   "outputs": [],
   "source": [
    "lowestRatedProduct=df.loc[df['asin'] == \"B004HJ9COU\"]\n",
    "lowestRatedProduct[\"overall\"].value_counts()"
   ]
  },
  {
   "cell_type": "code",
   "execution_count": null,
   "id": "d594d66b",
   "metadata": {},
   "outputs": [],
   "source": [
    "plt.hist(df['asin'].value_counts(),num_bin,alpha=0.5)\n",
    "plt.xlabel(' Reviews')\n",
    "plt.ylabel('Products')\n",
    "plt.title('Distribution of Reviews per product')\n",
    "plt.show()"
   ]
  },
  {
   "cell_type": "markdown",
   "id": "2991984a",
   "metadata": {},
   "source": [
    "### 1d. Distribution of reviews per user"
   ]
  },
  {
   "cell_type": "code",
   "execution_count": null,
   "id": "85214803",
   "metadata": {},
   "outputs": [],
   "source": [
    "user= df['reviewerID'].value_counts().keys().tolist()\n",
    "reviewsPerUser = df['reviewerID'].value_counts().tolist()"
   ]
  },
  {
   "cell_type": "code",
   "execution_count": null,
   "id": "2c558154",
   "metadata": {},
   "outputs": [],
   "source": [
    "print(f'Users:\\tReviews count')\n",
    "for i in range(len(user)):\n",
    "    print(f'{user[i]}:\\t{reviewsPerUser[i]}')"
   ]
  },
  {
   "cell_type": "code",
   "execution_count": null,
   "id": "b7f55c79",
   "metadata": {},
   "outputs": [],
   "source": [
    "# Total number of unique users (reviewers)\n",
    "df.reviewerID.nunique()"
   ]
  },
  {
   "cell_type": "code",
   "execution_count": null,
   "id": "ba568a5b",
   "metadata": {},
   "outputs": [],
   "source": [
    "plt.hist(df['reviewerID'].value_counts(),num_bin,alpha=0.5)\n",
    "plt.xlabel('Reviews')\n",
    "plt.ylabel('Users')\n",
    "plt.title('Distribution of Reviews per User')\n",
    "plt.show()"
   ]
  },
  {
   "cell_type": "markdown",
   "id": "276c12d5",
   "metadata": {},
   "source": [
    "### 1 extras. Text Lenght Review"
   ]
  },
  {
   "cell_type": "code",
   "execution_count": null,
   "id": "dc61cdef",
   "metadata": {},
   "outputs": [],
   "source": [
    "# Distribution of the review text lenghts\n",
    "\n",
    "df['reviewTextLength'] = df['reviewText'].apply(len)\n",
    "df.reviewTextLength.value_counts(bins=20)\n",
    "#df.reviewTextLength.value_counts(normalize=True)\n",
    "#df.reviewTextLength.value_counts()"
   ]
  },
  {
   "cell_type": "markdown",
   "id": "2624ea5e",
   "metadata": {},
   "source": [
    "**Although most review comments have a relatively short length, there are a considerable number of lengthy comments (10% > 1000)**"
   ]
  },
  {
   "cell_type": "code",
   "execution_count": null,
   "id": "0307fc66",
   "metadata": {},
   "outputs": [],
   "source": [
    "df.reviewTextLength.hist(bins = 20)"
   ]
  },
  {
   "cell_type": "code",
   "execution_count": null,
   "id": "8f29fd24",
   "metadata": {},
   "outputs": [],
   "source": [
    "df.reviewTextLength.describe()"
   ]
  },
  {
   "cell_type": "code",
   "execution_count": null,
   "id": "cff54a55",
   "metadata": {},
   "outputs": [],
   "source": [
    "# display large reviews to detect format and determine their usefulness\n",
    "sample = df.iloc[10]\n",
    "sample['reviewText']"
   ]
  },
  {
   "cell_type": "code",
   "execution_count": null,
   "id": "2c274832",
   "metadata": {
    "scrolled": false
   },
   "outputs": [],
   "source": [
    "# display large reviews to detect format and determine their usefulness\n",
    "another_sample = df.iloc[10257]\n",
    "another_sample['reviewText']"
   ]
  },
  {
   "cell_type": "code",
   "execution_count": null,
   "id": "40d05d8d",
   "metadata": {},
   "outputs": [],
   "source": [
    "# the dataset contains extremely large review texts\n",
    "df[df['reviewTextLength']>11000]"
   ]
  },
  {
   "cell_type": "code",
   "execution_count": null,
   "id": "0b3c7431",
   "metadata": {},
   "outputs": [],
   "source": [
    "# Distribution of most helpful comments\n",
    "df[df['helpful_rating'] >= 0.70].describe()"
   ]
  },
  {
   "cell_type": "code",
   "execution_count": null,
   "id": "7e83c932",
   "metadata": {},
   "outputs": [],
   "source": [
    "# Reviews without text\n",
    "print(df[df['reviewTextLength'] == 0].describe())\n",
    "print(df[df['reviewTextLength'] == 0])"
   ]
  },
  {
   "cell_type": "markdown",
   "id": "b0117400",
   "metadata": {},
   "source": [
    "### 2. Text pre-processing"
   ]
  },
  {
   "cell_type": "code",
   "execution_count": null,
   "id": "12b1520d",
   "metadata": {},
   "outputs": [],
   "source": [
    "# Stratified sampling\n",
    "random_sample = df.groupby('overall', group_keys=False).apply(lambda x: x.sample(200))\n",
    "random_sample['overall'].value_counts()"
   ]
  },
  {
   "cell_type": "code",
   "execution_count": null,
   "id": "53fdbd03",
   "metadata": {},
   "outputs": [],
   "source": [
    "# Create labels for \"rating of the product\"\n",
    "def product_ratings(x):\n",
    "    if x['overall'] == 5 or x['overall'] == 4:\n",
    "        x['ratings'] = 'Positive'\n",
    "    elif x['overall'] == 3:\n",
    "        x['ratings'] = 'Neutral'\n",
    "    elif x['overall'] == 2 or x['overall'] == 1:\n",
    "        x['ratings'] = 'Negative'\n",
    "    return x\n",
    "\n",
    "random_sample = random_sample.apply(product_ratings, axis = 1)\n",
    "random_sample['ratings'].value_counts()"
   ]
  },
  {
   "cell_type": "code",
   "execution_count": null,
   "id": "bc5a0ca4",
   "metadata": {},
   "outputs": [],
   "source": [
    "random_sample.info()"
   ]
  },
  {
   "cell_type": "code",
   "execution_count": null,
   "id": "63044992",
   "metadata": {
    "scrolled": true
   },
   "outputs": [],
   "source": [
    "# 2c. Column selection\n",
    "random_sample.drop(['reviewerName','helpful','helpful_rating','reviewTextLength','unixReviewTime','reviewTime'], axis=1, inplace= True)\n",
    "random_sample.columns"
   ]
  },
  {
   "cell_type": "markdown",
   "id": "7b894cff",
   "metadata": {},
   "source": [
    "### Data Cleanup"
   ]
  },
  {
   "cell_type": "code",
   "execution_count": null,
   "id": "931d6ccb",
   "metadata": {},
   "outputs": [],
   "source": [
    "# lowercasing\n",
    "random_sample['reviewText'] = random_sample['reviewText'].str.lower()\n",
    "\n",
    "# Remove punctuation\n",
    "random_sample['reviewText'] = random_sample['reviewText'].str.replace('[^\\w\\s]','', regex=True)\n",
    "\n",
    "random_sample.head()"
   ]
  },
  {
   "cell_type": "code",
   "execution_count": null,
   "id": "87aadd8a",
   "metadata": {
    "scrolled": true
   },
   "outputs": [],
   "source": [
    "pd.set_option('display.max_colwidth', None)\n",
    "pd.set_option('display.max_rows', 50)\n",
    "random_sample[['reviewText']].head(10)"
   ]
  },
  {
   "cell_type": "code",
   "execution_count": null,
   "id": "7a127071",
   "metadata": {
    "scrolled": true
   },
   "outputs": [],
   "source": [
    "'''Lemmitization'''\n",
    "import nltk\n",
    "from nltk.stem import WordNetLemmatizer\n",
    "nltk.download('omw-1.4')\n",
    "lemmatizer = WordNetLemmatizer()\n",
    "random_sample['reviewText'] = random_sample['reviewText'].apply(lambda x : ' '.join([lemmatizer.lemmatize(word) for word in x.split()]))\n",
    "random_sample.head()"
   ]
  },
  {
   "cell_type": "code",
   "execution_count": null,
   "id": "f53aabe7",
   "metadata": {},
   "outputs": [],
   "source": [
    "duplicate_random_sample = random_sample.copy()\n",
    "y = random_sample.pop('ratings').to_frame()\n",
    "X = random_sample.copy()\n",
    "\n",
    "from sklearn.model_selection import train_test_split\n",
    "X_train, X_test, y_train, y_test = train_test_split(\n",
    "        X, y,stratify=y, test_size=0.3)"
   ]
  },
  {
   "cell_type": "code",
   "execution_count": null,
   "id": "f53a7d20",
   "metadata": {},
   "outputs": [],
   "source": [
    "y_train['ratings'].value_counts()"
   ]
  },
  {
   "cell_type": "code",
   "execution_count": null,
   "id": "94bf0b76",
   "metadata": {},
   "outputs": [],
   "source": [
    "y_test['ratings'].value_counts()"
   ]
  },
  {
   "cell_type": "code",
   "execution_count": null,
   "id": "8cb1e4eb",
   "metadata": {},
   "outputs": [],
   "source": [
    "duplicate_random_sample['ratings'].value_counts()"
   ]
  },
  {
   "cell_type": "code",
   "execution_count": null,
   "id": "b7842964",
   "metadata": {},
   "outputs": [],
   "source": [
    "X_train"
   ]
  },
  {
   "cell_type": "markdown",
   "id": "ed01e86e",
   "metadata": {},
   "source": [
    "### 3. Text Representation"
   ]
  },
  {
   "cell_type": "markdown",
   "id": "038c9f78",
   "metadata": {},
   "source": [
    "### 3.1 TF-IDF"
   ]
  },
  {
   "cell_type": "code",
   "execution_count": null,
   "id": "230f7341",
   "metadata": {},
   "outputs": [],
   "source": [
    "#TF-IDF\n",
    "\n",
    "#Import TfIdfVectorizer from the scikit-learn library\n",
    "from sklearn.feature_extraction.text import TfidfVectorizer\n",
    "\n",
    "#Define a TF-IDF Vectorizer Object. Remove all english stopwords\n",
    "tfidf = TfidfVectorizer()\n",
    "\n",
    "\n",
    "#Construct the required TF-IDF matrix by applying the fit_transform method on the overview feature\n",
    "tfidf_matrix = tfidf.fit_transform(X_train['reviewText'])\n",
    "\n",
    "#Output the shape of tfidf_matrix\n",
    "tfidf_matrix.shape"
   ]
  },
  {
   "cell_type": "code",
   "execution_count": null,
   "id": "fc9e3daf",
   "metadata": {},
   "outputs": [],
   "source": [
    "#Bag of words for Text Representation\n",
    "\n",
    "from sklearn.feature_extraction.text import CountVectorizer\n",
    "\n",
    "CountVec = CountVectorizer()\n",
    "#transform\n",
    "Count_data = CountVec.fit_transform(X_train['reviewText'])\n",
    "\n",
    "Count_data.shape\n"
   ]
  },
  {
   "cell_type": "code",
   "execution_count": null,
   "id": "d9343b0a",
   "metadata": {},
   "outputs": [],
   "source": [
    "\"\"\"pip install gensim\n",
    "pip install nltk\"\"\""
   ]
  },
  {
   "cell_type": "code",
   "execution_count": null,
   "id": "f7fbe44d",
   "metadata": {},
   "outputs": [],
   "source": [
    "\"\"\"from nltk.tokenize import sent_tokenize, word_tokenize\n",
    "import gensim\n",
    "from gensim.models import Word2Vec\"\"\""
   ]
  },
  {
   "cell_type": "code",
   "execution_count": null,
   "id": "f2eb24fc",
   "metadata": {},
   "outputs": [],
   "source": [
    "\"\"\"\n",
    "corpus_text = 'n'.join(rev[:1000]['reviewText'])\n",
    "data = []\n",
    "# iterate through each sentence in the file\n",
    "for i in sent_tokenize(corpus_text):\n",
    "    temp = []\n",
    "    # tokenize the sentence into words\n",
    "    for j in word_tokenize(i):\n",
    "        temp.append(j.lower())\n",
    "    data.append(temp)\n",
    "    \"\"\""
   ]
  },
  {
   "cell_type": "code",
   "execution_count": null,
   "id": "8e6c484c",
   "metadata": {},
   "outputs": [],
   "source": [
    "\"\"\"S\"\"model1 = gensim.models.Word2Vec(data, min_count = 1,size = 100, window = 5, sg=0) \n",
    "model2 = gensim.models.Word2Vec(data, min_count = 1, size = 100, window = 5, sg = 1)\"\"\""
   ]
  },
  {
   "cell_type": "markdown",
   "id": "b1cac5bf",
   "metadata": {},
   "source": [
    "### 3.2 Distributed Representation - Spacy"
   ]
  },
  {
   "cell_type": "code",
   "execution_count": null,
   "id": "8651ba56",
   "metadata": {},
   "outputs": [],
   "source": [
    "!python -m spacy download en_core_web_md"
   ]
  },
  {
   "cell_type": "code",
   "execution_count": null,
   "id": "c4257d75",
   "metadata": {},
   "outputs": [],
   "source": [
    "import spacy\n",
    "import string, re\n",
    "import nltk\n",
    "from nltk.corpus import stopwords\n",
    "from nltk.tokenize import word_tokenize\n",
    "\n",
    "nlp = spacy.load('en_core_web_md')\n",
    "nltk.download('stopwords')\n",
    "stop_words = set(stopwords.words('english'))"
   ]
  },
  {
   "cell_type": "code",
   "execution_count": null,
   "id": "a81c17f4",
   "metadata": {},
   "outputs": [],
   "source": [
    "#Function to create text representation vector for each review\n",
    "def createReviewVector(reviewText):\n",
    "    #lowercase\n",
    "    reviewText = reviewText.lower()\n",
    "    \n",
    "    #remove punctuation, digits and whitespace\n",
    "    reviewText = reviewText.translate(str.maketrans('','', string.punctuation))\n",
    "    reviewText = re.sub(r'\\d+','', reviewText)\n",
    "    reviewText = reviewText.strip()\n",
    "    \n",
    "     #tokenize string and remove stop words\n",
    "    t_tokenized = word_tokenize(reviewText)\n",
    "    t_tokenized_nostop = [i for i in t_tokenized if not i in stop_words]\n",
    "    reviewText = ' '.join(t_tokenized_nostop) \n",
    "    \n",
    "    return nlp(reviewText)\n",
    "\n",
    "#Create vectors for the sentences in the reviews? >> Effect on large reviews?\n",
    "df['review_vector'] = df['reviewText'].apply(createReviewVector)\n",
    "df['review_vector'].head(2)"
   ]
  },
  {
   "cell_type": "code",
   "execution_count": null,
   "id": "8b9371fa",
   "metadata": {
    "scrolled": true
   },
   "outputs": [],
   "source": [
    "# sampling results for a review in a specified index\n",
    "index = 50\n",
    "df['review_vector'][index].__doc__\n",
    "\n",
    "for token in df['review_vector'][index]:\n",
    "    print(token.text, token.lemma_, token.pos_, token.tag_, token.dep_,\n",
    "            token.shape_, token.is_alpha, token.is_stop, sep='\\t')\n",
    "\n",
    "print(\"\\n\\n\")\n",
    "\n",
    "for entity in df['review_vector'][index].ents:\n",
    "    print(entity.text, entity.start_char, entity.end_char, entity.label_)\n",
    "\n",
    "    \n",
    "#print(df['review_vector'][index].vector)"
   ]
  },
  {
   "cell_type": "markdown",
   "id": "7dd4f744",
   "metadata": {},
   "source": [
    "### 4. Modeling (Sentiment Analysis) Lexicon Approach"
   ]
  },
  {
   "cell_type": "markdown",
   "id": "3ae19d0f",
   "metadata": {},
   "source": [
    "### 4.1 Valence Aware Dictionary"
   ]
  },
  {
   "cell_type": "code",
   "execution_count": null,
   "id": "6181738b",
   "metadata": {},
   "outputs": [],
   "source": []
  },
  {
   "cell_type": "markdown",
   "id": "967c18b4",
   "metadata": {},
   "source": [
    "### 4.2 TextBlob"
   ]
  },
  {
   "cell_type": "code",
   "execution_count": null,
   "id": "28cb8280",
   "metadata": {},
   "outputs": [],
   "source": []
  },
  {
   "cell_type": "markdown",
   "id": "834e6ba6",
   "metadata": {},
   "source": [
    "### 4.3 SentiWordNet"
   ]
  },
  {
   "cell_type": "code",
   "execution_count": null,
   "id": "97610ad2",
   "metadata": {},
   "outputs": [],
   "source": []
  }
 ],
 "metadata": {
  "kernelspec": {
   "display_name": "Python [conda env:comp262_2]",
   "language": "python",
   "name": "conda-env-comp262_2-py"
  },
  "language_info": {
   "codemirror_mode": {
    "name": "ipython",
    "version": 3
   },
   "file_extension": ".py",
   "mimetype": "text/x-python",
   "name": "python",
   "nbconvert_exporter": "python",
   "pygments_lexer": "ipython3",
   "version": "3.8.12"
  }
 },
 "nbformat": 4,
 "nbformat_minor": 5
}
