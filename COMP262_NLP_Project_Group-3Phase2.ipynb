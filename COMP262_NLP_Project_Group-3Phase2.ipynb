{
 "cells": [
  {
   "cell_type": "markdown",
   "id": "cec40d17",
   "metadata": {},
   "source": [
    "### Sentiment Analysis Model - Musical Instruments Review\n",
    "### COMP262 - Group 3 - Phase 2\n",
    "### Team Members\n",
    "\n",
    "- Devanshi Shah (301175169)\n",
    "- Hitesh Dharmadhikari (301150694)\n",
    "- Jefil Tasna John Mohan (301149710)\n",
    "- Nestor Romero (301133331)\n",
    "- Shrikant Kale (301150258)"
   ]
  },
  {
   "cell_type": "markdown",
   "id": "0ae2a150",
   "metadata": {},
   "source": [
    "### 1. Dataset data exploration"
   ]
  },
  {
   "cell_type": "code",
   "execution_count": 1,
   "id": "ce849331",
   "metadata": {},
   "outputs": [],
   "source": [
    "import json\n",
    "import pandas as pd\n",
    "df = pd.read_json(r'Musical_Instruments_5.json',lines = True)"
   ]
  },
  {
   "cell_type": "markdown",
   "id": "32329a70",
   "metadata": {},
   "source": [
    "1. reviewerID - ID of the reviewer, e.g. A2SUAM1J3GNN3B\n",
    "2. asin - ID of the product, e.g. 0000013714\n",
    "3. reviewerName - name of the reviewer\n",
    "4. helpful - helpfulness rating of the review, e.g. 2/3\n",
    "5. reviewText - text of the review\n",
    "6. overall - rating of the product\n",
    "7. summary - summary of the review\n",
    "8. unixReviewTime - time of the review (unix time)\n",
    "9. reviewTime - time of the review (raw)"
   ]
  },
  {
   "cell_type": "markdown",
   "id": "3dd97d79",
   "metadata": {},
   "source": [
    "### 2. Text pre-processing"
   ]
  },
  {
   "cell_type": "markdown",
   "id": "868c7fde",
   "metadata": {},
   "source": [
    "## Here one can select the data to be used in the following sections of code, either the complete data set or a sample!!!"
   ]
  },
  {
   "cell_type": "code",
   "execution_count": 2,
   "id": "09b1f739",
   "metadata": {},
   "outputs": [
    {
     "data": {
      "text/plain": [
       "1    200\n",
       "2    200\n",
       "3    200\n",
       "4    200\n",
       "5    200\n",
       "Name: overall, dtype: int64"
      ]
     },
     "execution_count": 2,
     "metadata": {},
     "output_type": "execute_result"
    }
   ],
   "source": [
    "## THE FOLLOWING CODE WILL REFERENCE THE study_data VARIABLE AS THE DATA SOURCE FOR \n",
    "## TEXT REPRESENTATION AND LEXICON ANALYSIS, LEAVE THE DESIRED CONTENTS UNCOMMENTED\n",
    "\n",
    "# 1. USE FULL SET OF DATA\n",
    "\n",
    "#study_data = df\n",
    "\n",
    "# 2. USE A SAMPLE OF DATA WITH STRATIFIED SAMPLING\n",
    "# Take 200 samples from each overall qualification\n",
    "study_data = df.groupby('overall', group_keys=False).apply(lambda x: x.sample(200))\n",
    "\n",
    "study_data['overall'].value_counts()"
   ]
  },
  {
   "cell_type": "code",
   "execution_count": 3,
   "id": "6bb7b192",
   "metadata": {},
   "outputs": [
    {
     "data": {
      "text/plain": [
       "Negative    400\n",
       "Positive    400\n",
       "Neutral     200\n",
       "Name: ratings, dtype: int64"
      ]
     },
     "execution_count": 3,
     "metadata": {},
     "output_type": "execute_result"
    }
   ],
   "source": [
    "# Create labels for \"rating of the product\"\n",
    "def product_ratings(x):\n",
    "    if x['overall'] == 5 or x['overall'] == 4:\n",
    "        x['ratings'] = 'Positive'\n",
    "    elif x['overall'] == 3:\n",
    "        x['ratings'] = 'Neutral'\n",
    "    elif x['overall'] == 2 or x['overall'] == 1:\n",
    "        x['ratings'] = 'Negative'\n",
    "    return x\n",
    "\n",
    "study_data = study_data.apply(product_ratings, axis = 1)\n",
    "study_data['ratings'].value_counts()"
   ]
  },
  {
   "cell_type": "code",
   "execution_count": 4,
   "id": "7fa5fa68",
   "metadata": {},
   "outputs": [
    {
     "name": "stdout",
     "output_type": "stream",
     "text": [
      "<class 'pandas.core.frame.DataFrame'>\n",
      "Int64Index: 1000 entries, 5555 to 9662\n",
      "Data columns (total 10 columns):\n",
      " #   Column          Non-Null Count  Dtype \n",
      "---  ------          --------------  ----- \n",
      " 0   reviewerID      1000 non-null   object\n",
      " 1   asin            1000 non-null   object\n",
      " 2   reviewerName    997 non-null    object\n",
      " 3   helpful         1000 non-null   object\n",
      " 4   reviewText      1000 non-null   object\n",
      " 5   overall         1000 non-null   int64 \n",
      " 6   summary         1000 non-null   object\n",
      " 7   unixReviewTime  1000 non-null   int64 \n",
      " 8   reviewTime      1000 non-null   object\n",
      " 9   ratings         1000 non-null   object\n",
      "dtypes: int64(2), object(8)\n",
      "memory usage: 85.9+ KB\n"
     ]
    }
   ],
   "source": [
    "study_data.info()"
   ]
  },
  {
   "cell_type": "code",
   "execution_count": 5,
   "id": "2ef531cf",
   "metadata": {
    "scrolled": true
   },
   "outputs": [
    {
     "name": "stdout",
     "output_type": "stream",
     "text": [
      "Column removal not possible: \"['helpful_rating', 'reviewTextLength'] not found in axis\"\n"
     ]
    },
    {
     "data": {
      "text/html": [
       "<div>\n",
       "<style scoped>\n",
       "    .dataframe tbody tr th:only-of-type {\n",
       "        vertical-align: middle;\n",
       "    }\n",
       "\n",
       "    .dataframe tbody tr th {\n",
       "        vertical-align: top;\n",
       "    }\n",
       "\n",
       "    .dataframe thead th {\n",
       "        text-align: right;\n",
       "    }\n",
       "</style>\n",
       "<table border=\"1\" class=\"dataframe\">\n",
       "  <thead>\n",
       "    <tr style=\"text-align: right;\">\n",
       "      <th></th>\n",
       "      <th>reviewerID</th>\n",
       "      <th>asin</th>\n",
       "      <th>reviewerName</th>\n",
       "      <th>helpful</th>\n",
       "      <th>reviewText</th>\n",
       "      <th>overall</th>\n",
       "      <th>summary</th>\n",
       "      <th>unixReviewTime</th>\n",
       "      <th>reviewTime</th>\n",
       "      <th>ratings</th>\n",
       "    </tr>\n",
       "  </thead>\n",
       "  <tbody>\n",
       "    <tr>\n",
       "      <th>5555</th>\n",
       "      <td>A1QRF5KISDOKPA</td>\n",
       "      <td>B000SAC5PA</td>\n",
       "      <td>santos</td>\n",
       "      <td>[6, 8]</td>\n",
       "      <td>ok when i saw the bag i was impressed nice loo...</td>\n",
       "      <td>1</td>\n",
       "      <td>hate it</td>\n",
       "      <td>1324598400</td>\n",
       "      <td>12 23, 2011</td>\n",
       "      <td>Negative</td>\n",
       "    </tr>\n",
       "    <tr>\n",
       "      <th>7085</th>\n",
       "      <td>AA8SWH4Y5SN8H</td>\n",
       "      <td>B0025V1REU</td>\n",
       "      <td>S. Grider</td>\n",
       "      <td>[0, 1]</td>\n",
       "      <td>I had a friend with one of these and he loves ...</td>\n",
       "      <td>1</td>\n",
       "      <td>Oh god</td>\n",
       "      <td>1356652800</td>\n",
       "      <td>12 28, 2012</td>\n",
       "      <td>Negative</td>\n",
       "    </tr>\n",
       "    <tr>\n",
       "      <th>7670</th>\n",
       "      <td>A1M957IA3QNX7X</td>\n",
       "      <td>B0037MC786</td>\n",
       "      <td>Kyle D.</td>\n",
       "      <td>[0, 1]</td>\n",
       "      <td>I got a few of these as a Christmas gift and t...</td>\n",
       "      <td>1</td>\n",
       "      <td>Doesn't cut it for me.</td>\n",
       "      <td>1391731200</td>\n",
       "      <td>02 7, 2014</td>\n",
       "      <td>Negative</td>\n",
       "    </tr>\n",
       "    <tr>\n",
       "      <th>6695</th>\n",
       "      <td>A3DAURGJAL0Y0S</td>\n",
       "      <td>B001LJUVO4</td>\n",
       "      <td>Marc LaBelle \"NevermoreFU\"</td>\n",
       "      <td>[2, 2]</td>\n",
       "      <td>Doesn't wotk with V-Amp 3.  Doubt it works at ...</td>\n",
       "      <td>1</td>\n",
       "      <td>Doesn't work</td>\n",
       "      <td>1295913600</td>\n",
       "      <td>01 25, 2011</td>\n",
       "      <td>Negative</td>\n",
       "    </tr>\n",
       "    <tr>\n",
       "      <th>10015</th>\n",
       "      <td>A3K9OQPCI8UJE</td>\n",
       "      <td>B00AZUAORE</td>\n",
       "      <td>MQ</td>\n",
       "      <td>[0, 1]</td>\n",
       "      <td>Amazon and TC Electronics will not tell you th...</td>\n",
       "      <td>1</td>\n",
       "      <td>Where's my power supply?</td>\n",
       "      <td>1402444800</td>\n",
       "      <td>06 11, 2014</td>\n",
       "      <td>Negative</td>\n",
       "    </tr>\n",
       "  </tbody>\n",
       "</table>\n",
       "</div>"
      ],
      "text/plain": [
       "           reviewerID        asin                reviewerName helpful  \\\n",
       "5555   A1QRF5KISDOKPA  B000SAC5PA                      santos  [6, 8]   \n",
       "7085    AA8SWH4Y5SN8H  B0025V1REU                   S. Grider  [0, 1]   \n",
       "7670   A1M957IA3QNX7X  B0037MC786                     Kyle D.  [0, 1]   \n",
       "6695   A3DAURGJAL0Y0S  B001LJUVO4  Marc LaBelle \"NevermoreFU\"  [2, 2]   \n",
       "10015   A3K9OQPCI8UJE  B00AZUAORE                          MQ  [0, 1]   \n",
       "\n",
       "                                              reviewText  overall  \\\n",
       "5555   ok when i saw the bag i was impressed nice loo...        1   \n",
       "7085   I had a friend with one of these and he loves ...        1   \n",
       "7670   I got a few of these as a Christmas gift and t...        1   \n",
       "6695   Doesn't wotk with V-Amp 3.  Doubt it works at ...        1   \n",
       "10015  Amazon and TC Electronics will not tell you th...        1   \n",
       "\n",
       "                        summary  unixReviewTime   reviewTime   ratings  \n",
       "5555                    hate it      1324598400  12 23, 2011  Negative  \n",
       "7085                     Oh god      1356652800  12 28, 2012  Negative  \n",
       "7670     Doesn't cut it for me.      1391731200   02 7, 2014  Negative  \n",
       "6695               Doesn't work      1295913600  01 25, 2011  Negative  \n",
       "10015  Where's my power supply?      1402444800  06 11, 2014  Negative  "
      ]
     },
     "execution_count": 5,
     "metadata": {},
     "output_type": "execute_result"
    }
   ],
   "source": [
    "# 2c. Column selection\n",
    "try:\n",
    "    study_data.drop(['reviewerName','helpful','helpful_rating','reviewTextLength','unixReviewTime','reviewTime'], axis=1, inplace= True)\n",
    "except KeyError as ke:\n",
    "    print(f'Column removal not possible: {ke}')\n",
    "    \n",
    "study_data.head()"
   ]
  },
  {
   "cell_type": "markdown",
   "id": "d5c4516d",
   "metadata": {},
   "source": [
    "### Data Cleanup"
   ]
  },
  {
   "cell_type": "code",
   "execution_count": 6,
   "id": "b8803a12",
   "metadata": {},
   "outputs": [
    {
     "data": {
      "text/html": [
       "<div>\n",
       "<style scoped>\n",
       "    .dataframe tbody tr th:only-of-type {\n",
       "        vertical-align: middle;\n",
       "    }\n",
       "\n",
       "    .dataframe tbody tr th {\n",
       "        vertical-align: top;\n",
       "    }\n",
       "\n",
       "    .dataframe thead th {\n",
       "        text-align: right;\n",
       "    }\n",
       "</style>\n",
       "<table border=\"1\" class=\"dataframe\">\n",
       "  <thead>\n",
       "    <tr style=\"text-align: right;\">\n",
       "      <th></th>\n",
       "      <th>reviewerID</th>\n",
       "      <th>asin</th>\n",
       "      <th>reviewerName</th>\n",
       "      <th>helpful</th>\n",
       "      <th>reviewText</th>\n",
       "      <th>overall</th>\n",
       "      <th>summary</th>\n",
       "      <th>unixReviewTime</th>\n",
       "      <th>reviewTime</th>\n",
       "      <th>ratings</th>\n",
       "    </tr>\n",
       "  </thead>\n",
       "  <tbody>\n",
       "    <tr>\n",
       "      <th>5555</th>\n",
       "      <td>A1QRF5KISDOKPA</td>\n",
       "      <td>B000SAC5PA</td>\n",
       "      <td>santos</td>\n",
       "      <td>[6, 8]</td>\n",
       "      <td>ok when i saw the bag i was impressed nice loo...</td>\n",
       "      <td>1</td>\n",
       "      <td>hate it</td>\n",
       "      <td>1324598400</td>\n",
       "      <td>12 23, 2011</td>\n",
       "      <td>Negative</td>\n",
       "    </tr>\n",
       "    <tr>\n",
       "      <th>7085</th>\n",
       "      <td>AA8SWH4Y5SN8H</td>\n",
       "      <td>B0025V1REU</td>\n",
       "      <td>S. Grider</td>\n",
       "      <td>[0, 1]</td>\n",
       "      <td>i had a friend with one of these and he loves ...</td>\n",
       "      <td>1</td>\n",
       "      <td>Oh god</td>\n",
       "      <td>1356652800</td>\n",
       "      <td>12 28, 2012</td>\n",
       "      <td>Negative</td>\n",
       "    </tr>\n",
       "    <tr>\n",
       "      <th>7670</th>\n",
       "      <td>A1M957IA3QNX7X</td>\n",
       "      <td>B0037MC786</td>\n",
       "      <td>Kyle D.</td>\n",
       "      <td>[0, 1]</td>\n",
       "      <td>i got a few of these as a christmas gift and t...</td>\n",
       "      <td>1</td>\n",
       "      <td>Doesn't cut it for me.</td>\n",
       "      <td>1391731200</td>\n",
       "      <td>02 7, 2014</td>\n",
       "      <td>Negative</td>\n",
       "    </tr>\n",
       "    <tr>\n",
       "      <th>6695</th>\n",
       "      <td>A3DAURGJAL0Y0S</td>\n",
       "      <td>B001LJUVO4</td>\n",
       "      <td>Marc LaBelle \"NevermoreFU\"</td>\n",
       "      <td>[2, 2]</td>\n",
       "      <td>doesnt wotk with vamp 3  doubt it works at all...</td>\n",
       "      <td>1</td>\n",
       "      <td>Doesn't work</td>\n",
       "      <td>1295913600</td>\n",
       "      <td>01 25, 2011</td>\n",
       "      <td>Negative</td>\n",
       "    </tr>\n",
       "    <tr>\n",
       "      <th>10015</th>\n",
       "      <td>A3K9OQPCI8UJE</td>\n",
       "      <td>B00AZUAORE</td>\n",
       "      <td>MQ</td>\n",
       "      <td>[0, 1]</td>\n",
       "      <td>amazon and tc electronics will not tell you th...</td>\n",
       "      <td>1</td>\n",
       "      <td>Where's my power supply?</td>\n",
       "      <td>1402444800</td>\n",
       "      <td>06 11, 2014</td>\n",
       "      <td>Negative</td>\n",
       "    </tr>\n",
       "  </tbody>\n",
       "</table>\n",
       "</div>"
      ],
      "text/plain": [
       "           reviewerID        asin                reviewerName helpful  \\\n",
       "5555   A1QRF5KISDOKPA  B000SAC5PA                      santos  [6, 8]   \n",
       "7085    AA8SWH4Y5SN8H  B0025V1REU                   S. Grider  [0, 1]   \n",
       "7670   A1M957IA3QNX7X  B0037MC786                     Kyle D.  [0, 1]   \n",
       "6695   A3DAURGJAL0Y0S  B001LJUVO4  Marc LaBelle \"NevermoreFU\"  [2, 2]   \n",
       "10015   A3K9OQPCI8UJE  B00AZUAORE                          MQ  [0, 1]   \n",
       "\n",
       "                                              reviewText  overall  \\\n",
       "5555   ok when i saw the bag i was impressed nice loo...        1   \n",
       "7085   i had a friend with one of these and he loves ...        1   \n",
       "7670   i got a few of these as a christmas gift and t...        1   \n",
       "6695   doesnt wotk with vamp 3  doubt it works at all...        1   \n",
       "10015  amazon and tc electronics will not tell you th...        1   \n",
       "\n",
       "                        summary  unixReviewTime   reviewTime   ratings  \n",
       "5555                    hate it      1324598400  12 23, 2011  Negative  \n",
       "7085                     Oh god      1356652800  12 28, 2012  Negative  \n",
       "7670     Doesn't cut it for me.      1391731200   02 7, 2014  Negative  \n",
       "6695               Doesn't work      1295913600  01 25, 2011  Negative  \n",
       "10015  Where's my power supply?      1402444800  06 11, 2014  Negative  "
      ]
     },
     "execution_count": 6,
     "metadata": {},
     "output_type": "execute_result"
    }
   ],
   "source": [
    "# lowercasing\n",
    "study_data['reviewText'] = study_data['reviewText'].str.lower()\n",
    "\n",
    "# Remove punctuation\n",
    "study_data['reviewText'] = study_data['reviewText'].str.replace('[^\\w\\s]','', regex=True)\n",
    "\n",
    "study_data.head()"
   ]
  },
  {
   "cell_type": "code",
   "execution_count": 7,
   "id": "92927a43",
   "metadata": {
    "scrolled": true
   },
   "outputs": [
    {
     "data": {
      "text/html": [
       "<div>\n",
       "<style scoped>\n",
       "    .dataframe tbody tr th:only-of-type {\n",
       "        vertical-align: middle;\n",
       "    }\n",
       "\n",
       "    .dataframe tbody tr th {\n",
       "        vertical-align: top;\n",
       "    }\n",
       "\n",
       "    .dataframe thead th {\n",
       "        text-align: right;\n",
       "    }\n",
       "</style>\n",
       "<table border=\"1\" class=\"dataframe\">\n",
       "  <thead>\n",
       "    <tr style=\"text-align: right;\">\n",
       "      <th></th>\n",
       "      <th>reviewText</th>\n",
       "    </tr>\n",
       "  </thead>\n",
       "  <tbody>\n",
       "    <tr>\n",
       "      <th>5555</th>\n",
       "      <td>ok when i saw the bag i was impressed nice looking and perfect style so i decided to buy it but the bag just arrive home 122311 and is way different from the one on the picture is a black bag with one ugly red line on the middle and it looks like is not going to protect my guitar i am really upset i would not returned because i dont feel like fighting with no body but they shouldnt do that to the costumer we pay how much they asking so a least we should get what we pay for</td>\n",
       "    </tr>\n",
       "    <tr>\n",
       "      <th>7085</th>\n",
       "      <td>i had a friend with one of these and he loves it i got one on his recommendation and when i put the batteries in it it started smoking it did work for awhile i pulled the batteries out and tried to ac adapter and it smoked again this time it did not work i am one of those people who gives an item one try and if it does not work holds a grudge i would not advise anybody to get this</td>\n",
       "    </tr>\n",
       "    <tr>\n",
       "      <th>7670</th>\n",
       "      <td>i got a few of these as a christmas gift and theyre just bad  i put them on my pedalboard where i previously had longer cables and these just didnt stay in the jack  i have no other problems with these jacks with any other cable but these  if i play loudly and my room vibrates a bit the cable even works its way out of the jack a little bit and cuts my signal  awful</td>\n",
       "    </tr>\n",
       "    <tr>\n",
       "      <th>6695</th>\n",
       "      <td>doesnt wotk with vamp 3  doubt it works at all  red light always stays on and ive never seen the green light</td>\n",
       "    </tr>\n",
       "    <tr>\n",
       "      <th>10015</th>\n",
       "      <td>amazon and tc electronics will not tell you that you need a 9v power supply i didnt see any warning or advise in the point of purchase nor in the package this is an unfair practice from amazon and tc electronics</td>\n",
       "    </tr>\n",
       "    <tr>\n",
       "      <th>7656</th>\n",
       "      <td>the material used is fine  the looks are fine  the length is horrible  this is too short for most adults that play guitar  it felt like i was holding my guitar around my neck instead of off my shoulders  i attached it by the longest way possible and it was well short of what i could use  to me this was a worthless purchase  i just tucked it into a drawer and it will sit there and not be used again</td>\n",
       "    </tr>\n",
       "    <tr>\n",
       "      <th>8493</th>\n",
       "      <td>my reviews for this have changed a few times but no more when i first got it i liked the sound though it did sound a little cold and digital and this is from someone wanting to record shoegazedreampop which by its nature is full of cold tones reverbchorusdelay shimmering a la cocteau twins chapterhouse lush so at first i thought it was great then the fuse software was even cooler all this customizing the sound though it did sound noisy and needed the compressor to take some of the noise awayafter all of that i finally realized i was trying to ignore the fizzcracklehair its called a few things go to the fender forums and look it up or search it on yahoogooglethe thing happening with this amp i think is a few things fender guitars sound best through it which is silly if you dont own a fender and i dont and refuse to get a squire as that body is so played out i wanted anything but a strat body unless i have a grand to pay for an older one im not going to get a rinky dink one and i would only get one after i got like 5 other dream guitars firstso everyone has different problems with pickup quality and guitar quality also playing into a modeling amp is like playing into a computer that may be fine for some younger folks but to a lot of people ive read the complaints i was trying not to realize as i didnt feel like having to pay for shipping to return it but i didand i am so glad i did i almost got a peavey vypyr and i am glad i didnt this amp to be fair is really close to being really cool but that sound problem which i read on fenders own forumwebsite fender acknowledges it exists but does nothing to fix it in future models sorry but thats some big company bsive been reading of people saying it sounds cold and lifeless and all that and tube this and tube that and i was like what music snobs and what have you but i realized that im a music snob i love the music i listen to more than anything and feel like the music i create should have a life to it as well so i returned the mustang 2 and almost got a marshall mg 30 watt cause i wanted an amp with a clean sound that didnt have that crackle sound but thankfully i caught myself before that return as after that it would have been finalthe decision i did make i think will be great for me as id rather start with a good real tone then get the effects i need i kept reading reviews of these teenagers that hadnt played for more than a year or two or so saying throw away your pedals you wont need them and i was going to get pedals but dont need to now thats kind of the danger of these amps they end up making everyone sound the same no matter what tweaking i was doing on the mustang it sounded the same but in a different costumei think this amp and modeling amps are best for beginning guitarists and ive seen some old timers getting an amp for home use after years maybe thats for them but i needed something to record with and practice and get the best most real tone possible so that means tube ampi think if i played this at a gc i wouldnt of gotten it and i just tried to make myself like it</td>\n",
       "    </tr>\n",
       "    <tr>\n",
       "      <th>4678</th>\n",
       "      <td>this strap is uncomfortable and too flimsy to feel good also doesnt fit an instrument where theres no place to hook it   i returned mine as it just didnt fit well for my uke or mandolin</td>\n",
       "    </tr>\n",
       "    <tr>\n",
       "      <th>6222</th>\n",
       "      <td>i had some issues with my 18watt all tube amp so i experimented and replaced all the tubes  issues not only continued but worsened  hum noise volume fade unwanted distortion at low volumes  i eventually put back the original el84s and that didnt help  once i removed the tungsol 12ax7 preamp tubes and replaced the hum stopped sound quality of the amp was consistent quiet and back to par  my experience with the tungsol tubes was very very negative  they caused me to go out and buy another amp  i had no idea that brand new tubes could sound so badly that fast  ill never buy this brand again</td>\n",
       "    </tr>\n",
       "    <tr>\n",
       "      <th>3792</th>\n",
       "      <td>i bought this becausehey a wireless mic for 13 why not i might be able to use this in a public address systemthe connections all work and it makes sounds but the static is unbearable no matter how much i fiddle with different the adjustment screw in the receiver nothing works the audio is always clipped dont even think of using this for music</td>\n",
       "    </tr>\n",
       "  </tbody>\n",
       "</table>\n",
       "</div>"
      ],
      "text/plain": [
       "                                                                                                                                                                                                                                                                                                                                                                                                                                                                                                                                                                                                                                                                                                                                                                                                                                                                                                                                                                                                                                                                                                                                                                                                                                                                                                                                                                                                                                                                                                                                                                                                                                                                                                                                                                                                                                                                                                                                                                                                                                                                                                                                                                                                                                                                                                                                                                                                                                                                                                                                                                                                                                                                                                                                                                                                                                                                                                                                                                                                                                                                                                                                                                                                   reviewText\n",
       "5555                                                                                                                                                                                                                                                                                                                                                                                                                                                                                                                                                                                                                                                                                                                                                                                                                                                                                                                                                                                                                                                                                                                                                                                                                                                                                                                                                                                                                                                                                                                                                                                                                                                                                                                                                                                                                                                                                                                                                                                                                                                                                                                                                                                                                                                                                                                                                                                                                                                                                                                                                                                                                                                                                                            ok when i saw the bag i was impressed nice looking and perfect style so i decided to buy it but the bag just arrive home 122311 and is way different from the one on the picture is a black bag with one ugly red line on the middle and it looks like is not going to protect my guitar i am really upset i would not returned because i dont feel like fighting with no body but they shouldnt do that to the costumer we pay how much they asking so a least we should get what we pay for\n",
       "7085                                                                                                                                                                                                                                                                                                                                                                                                                                                                                                                                                                                                                                                                                                                                                                                                                                                                                                                                                                                                                                                                                                                                                                                                                                                                                                                                                                                                                                                                                                                                                                                                                                                                                                                                                                                                                                                                                                                                                                                                                                                                                                                                                                                                                                                                                                                                                                                                                                                                                                                                                                                                                                                                                                                                                                                                          i had a friend with one of these and he loves it i got one on his recommendation and when i put the batteries in it it started smoking it did work for awhile i pulled the batteries out and tried to ac adapter and it smoked again this time it did not work i am one of those people who gives an item one try and if it does not work holds a grudge i would not advise anybody to get this\n",
       "7670                                                                                                                                                                                                                                                                                                                                                                                                                                                                                                                                                                                                                                                                                                                                                                                                                                                                                                                                                                                                                                                                                                                                                                                                                                                                                                                                                                                                                                                                                                                                                                                                                                                                                                                                                                                                                                                                                                                                                                                                                                                                                                                                                                                                                                                                                                                                                                                                                                                                                                                                                                                                                                                                                                                                                                                                                          i got a few of these as a christmas gift and theyre just bad  i put them on my pedalboard where i previously had longer cables and these just didnt stay in the jack  i have no other problems with these jacks with any other cable but these  if i play loudly and my room vibrates a bit the cable even works its way out of the jack a little bit and cuts my signal  awful\n",
       "6695                                                                                                                                                                                                                                                                                                                                                                                                                                                                                                                                                                                                                                                                                                                                                                                                                                                                                                                                                                                                                                                                                                                                                                                                                                                                                                                                                                                                                                                                                                                                                                                                                                                                                                                                                                                                                                                                                                                                                                                                                                                                                                                                                                                                                                                                                                                                                                                                                                                                                                                                                                                                                                                                                                                                                                                                                                                                                                                                                                                                                                                                                             doesnt wotk with vamp 3  doubt it works at all  red light always stays on and ive never seen the green light\n",
       "10015                                                                                                                                                                                                                                                                                                                                                                                                                                                                                                                                                                                                                                                                                                                                                                                                                                                                                                                                                                                                                                                                                                                                                                                                                                                                                                                                                                                                                                                                                                                                                                                                                                                                                                                                                                                                                                                                                                                                                                                                                                                                                                                                                                                                                                                                                                                                                                                                                                                                                                                                                                                                                                                                                                                                                                                                                                                                                                                                                                                     amazon and tc electronics will not tell you that you need a 9v power supply i didnt see any warning or advise in the point of purchase nor in the package this is an unfair practice from amazon and tc electronics\n",
       "7656                                                                                                                                                                                                                                                                                                                                                                                                                                                                                                                                                                                                                                                                                                                                                                                                                                                                                                                                                                                                                                                                                                                                                                                                                                                                                                                                                                                                                                                                                                                                                                                                                                                                                                                                                                                                                                                                                                                                                                                                                                                                                                                                                                                                                                                                                                                                                                                                                                                                                                                                                                                                                                                                                                                                                                                         the material used is fine  the looks are fine  the length is horrible  this is too short for most adults that play guitar  it felt like i was holding my guitar around my neck instead of off my shoulders  i attached it by the longest way possible and it was well short of what i could use  to me this was a worthless purchase  i just tucked it into a drawer and it will sit there and not be used again\n",
       "8493   my reviews for this have changed a few times but no more when i first got it i liked the sound though it did sound a little cold and digital and this is from someone wanting to record shoegazedreampop which by its nature is full of cold tones reverbchorusdelay shimmering a la cocteau twins chapterhouse lush so at first i thought it was great then the fuse software was even cooler all this customizing the sound though it did sound noisy and needed the compressor to take some of the noise awayafter all of that i finally realized i was trying to ignore the fizzcracklehair its called a few things go to the fender forums and look it up or search it on yahoogooglethe thing happening with this amp i think is a few things fender guitars sound best through it which is silly if you dont own a fender and i dont and refuse to get a squire as that body is so played out i wanted anything but a strat body unless i have a grand to pay for an older one im not going to get a rinky dink one and i would only get one after i got like 5 other dream guitars firstso everyone has different problems with pickup quality and guitar quality also playing into a modeling amp is like playing into a computer that may be fine for some younger folks but to a lot of people ive read the complaints i was trying not to realize as i didnt feel like having to pay for shipping to return it but i didand i am so glad i did i almost got a peavey vypyr and i am glad i didnt this amp to be fair is really close to being really cool but that sound problem which i read on fenders own forumwebsite fender acknowledges it exists but does nothing to fix it in future models sorry but thats some big company bsive been reading of people saying it sounds cold and lifeless and all that and tube this and tube that and i was like what music snobs and what have you but i realized that im a music snob i love the music i listen to more than anything and feel like the music i create should have a life to it as well so i returned the mustang 2 and almost got a marshall mg 30 watt cause i wanted an amp with a clean sound that didnt have that crackle sound but thankfully i caught myself before that return as after that it would have been finalthe decision i did make i think will be great for me as id rather start with a good real tone then get the effects i need i kept reading reviews of these teenagers that hadnt played for more than a year or two or so saying throw away your pedals you wont need them and i was going to get pedals but dont need to now thats kind of the danger of these amps they end up making everyone sound the same no matter what tweaking i was doing on the mustang it sounded the same but in a different costumei think this amp and modeling amps are best for beginning guitarists and ive seen some old timers getting an amp for home use after years maybe thats for them but i needed something to record with and practice and get the best most real tone possible so that means tube ampi think if i played this at a gc i wouldnt of gotten it and i just tried to make myself like it\n",
       "4678                                                                                                                                                                                                                                                                                                                                                                                                                                                                                                                                                                                                                                                                                                                                                                                                                                                                                                                                                                                                                                                                                                                                                                                                                                                                                                                                                                                                                                                                                                                                                                                                                                                                                                                                                                                                                                                                                                                                                                                                                                                                                                                                                                                                                                                                                                                                                                                                                                                                                                                                                                                                                                                                                                                                                                                                                                                                                                                                                                                                                this strap is uncomfortable and too flimsy to feel good also doesnt fit an instrument where theres no place to hook it   i returned mine as it just didnt fit well for my uke or mandolin\n",
       "6222                                                                                                                                                                                                                                                                                                                                                                                                                                                                                                                                                                                                                                                                                                                                                                                                                                                                                                                                                                                                                                                                                                                                                                                                                                                                                                                                                                                                                                                                                                                                                                                                                                                                                                                                                                                                                                                                                                                                                                                                                                                                                                                                                                                                                                                                                                                                                                                                                                                                                                                                                                                       i had some issues with my 18watt all tube amp so i experimented and replaced all the tubes  issues not only continued but worsened  hum noise volume fade unwanted distortion at low volumes  i eventually put back the original el84s and that didnt help  once i removed the tungsol 12ax7 preamp tubes and replaced the hum stopped sound quality of the amp was consistent quiet and back to par  my experience with the tungsol tubes was very very negative  they caused me to go out and buy another amp  i had no idea that brand new tubes could sound so badly that fast  ill never buy this brand again\n",
       "3792                                                                                                                                                                                                                                                                                                                                                                                                                                                                                                                                                                                                                                                                                                                                                                                                                                                                                                                                                                                                                                                                                                                                                                                                                                                                                                                                                                                                                                                                                                                                                                                                                                                                                                                                                                                                                                                                                                                                                                                                                                                                                                                                                                                                                                                                                                                                                                                                                                                                                                                                                                                                                                                                                                                                                                                                                                                 i bought this becausehey a wireless mic for 13 why not i might be able to use this in a public address systemthe connections all work and it makes sounds but the static is unbearable no matter how much i fiddle with different the adjustment screw in the receiver nothing works the audio is always clipped dont even think of using this for music"
      ]
     },
     "execution_count": 7,
     "metadata": {},
     "output_type": "execute_result"
    }
   ],
   "source": [
    "pd.set_option('display.max_colwidth', None)\n",
    "pd.set_option('display.max_rows', 50)\n",
    "study_data[['reviewText']].head(10)"
   ]
  },
  {
   "cell_type": "code",
   "execution_count": 8,
   "id": "9bbbd614",
   "metadata": {
    "scrolled": false
   },
   "outputs": [
    {
     "name": "stderr",
     "output_type": "stream",
     "text": [
      "[nltk_data] Downloading package omw-1.4 to\n",
      "[nltk_data]     C:\\Users\\romer\\AppData\\Roaming\\nltk_data...\n",
      "[nltk_data]   Package omw-1.4 is already up-to-date!\n"
     ]
    },
    {
     "data": {
      "text/html": [
       "<div>\n",
       "<style scoped>\n",
       "    .dataframe tbody tr th:only-of-type {\n",
       "        vertical-align: middle;\n",
       "    }\n",
       "\n",
       "    .dataframe tbody tr th {\n",
       "        vertical-align: top;\n",
       "    }\n",
       "\n",
       "    .dataframe thead th {\n",
       "        text-align: right;\n",
       "    }\n",
       "</style>\n",
       "<table border=\"1\" class=\"dataframe\">\n",
       "  <thead>\n",
       "    <tr style=\"text-align: right;\">\n",
       "      <th></th>\n",
       "      <th>reviewerID</th>\n",
       "      <th>asin</th>\n",
       "      <th>reviewerName</th>\n",
       "      <th>helpful</th>\n",
       "      <th>reviewText</th>\n",
       "      <th>overall</th>\n",
       "      <th>summary</th>\n",
       "      <th>unixReviewTime</th>\n",
       "      <th>reviewTime</th>\n",
       "      <th>ratings</th>\n",
       "    </tr>\n",
       "  </thead>\n",
       "  <tbody>\n",
       "    <tr>\n",
       "      <th>5555</th>\n",
       "      <td>A1QRF5KISDOKPA</td>\n",
       "      <td>B000SAC5PA</td>\n",
       "      <td>santos</td>\n",
       "      <td>[6, 8]</td>\n",
       "      <td>ok when i saw the bag i wa impressed nice looking and perfect style so i decided to buy it but the bag just arrive home 122311 and is way different from the one on the picture is a black bag with one ugly red line on the middle and it look like is not going to protect my guitar i am really upset i would not returned because i dont feel like fighting with no body but they shouldnt do that to the costumer we pay how much they asking so a least we should get what we pay for</td>\n",
       "      <td>1</td>\n",
       "      <td>hate it</td>\n",
       "      <td>1324598400</td>\n",
       "      <td>12 23, 2011</td>\n",
       "      <td>Negative</td>\n",
       "    </tr>\n",
       "    <tr>\n",
       "      <th>7085</th>\n",
       "      <td>AA8SWH4Y5SN8H</td>\n",
       "      <td>B0025V1REU</td>\n",
       "      <td>S. Grider</td>\n",
       "      <td>[0, 1]</td>\n",
       "      <td>i had a friend with one of these and he love it i got one on his recommendation and when i put the battery in it it started smoking it did work for awhile i pulled the battery out and tried to ac adapter and it smoked again this time it did not work i am one of those people who give an item one try and if it doe not work hold a grudge i would not advise anybody to get this</td>\n",
       "      <td>1</td>\n",
       "      <td>Oh god</td>\n",
       "      <td>1356652800</td>\n",
       "      <td>12 28, 2012</td>\n",
       "      <td>Negative</td>\n",
       "    </tr>\n",
       "    <tr>\n",
       "      <th>7670</th>\n",
       "      <td>A1M957IA3QNX7X</td>\n",
       "      <td>B0037MC786</td>\n",
       "      <td>Kyle D.</td>\n",
       "      <td>[0, 1]</td>\n",
       "      <td>i got a few of these a a christmas gift and theyre just bad i put them on my pedalboard where i previously had longer cable and these just didnt stay in the jack i have no other problem with these jack with any other cable but these if i play loudly and my room vibrates a bit the cable even work it way out of the jack a little bit and cut my signal awful</td>\n",
       "      <td>1</td>\n",
       "      <td>Doesn't cut it for me.</td>\n",
       "      <td>1391731200</td>\n",
       "      <td>02 7, 2014</td>\n",
       "      <td>Negative</td>\n",
       "    </tr>\n",
       "    <tr>\n",
       "      <th>6695</th>\n",
       "      <td>A3DAURGJAL0Y0S</td>\n",
       "      <td>B001LJUVO4</td>\n",
       "      <td>Marc LaBelle \"NevermoreFU\"</td>\n",
       "      <td>[2, 2]</td>\n",
       "      <td>doesnt wotk with vamp 3 doubt it work at all red light always stay on and ive never seen the green light</td>\n",
       "      <td>1</td>\n",
       "      <td>Doesn't work</td>\n",
       "      <td>1295913600</td>\n",
       "      <td>01 25, 2011</td>\n",
       "      <td>Negative</td>\n",
       "    </tr>\n",
       "    <tr>\n",
       "      <th>10015</th>\n",
       "      <td>A3K9OQPCI8UJE</td>\n",
       "      <td>B00AZUAORE</td>\n",
       "      <td>MQ</td>\n",
       "      <td>[0, 1]</td>\n",
       "      <td>amazon and tc electronics will not tell you that you need a 9v power supply i didnt see any warning or advise in the point of purchase nor in the package this is an unfair practice from amazon and tc electronics</td>\n",
       "      <td>1</td>\n",
       "      <td>Where's my power supply?</td>\n",
       "      <td>1402444800</td>\n",
       "      <td>06 11, 2014</td>\n",
       "      <td>Negative</td>\n",
       "    </tr>\n",
       "  </tbody>\n",
       "</table>\n",
       "</div>"
      ],
      "text/plain": [
       "           reviewerID        asin                reviewerName helpful  \\\n",
       "5555   A1QRF5KISDOKPA  B000SAC5PA                      santos  [6, 8]   \n",
       "7085    AA8SWH4Y5SN8H  B0025V1REU                   S. Grider  [0, 1]   \n",
       "7670   A1M957IA3QNX7X  B0037MC786                     Kyle D.  [0, 1]   \n",
       "6695   A3DAURGJAL0Y0S  B001LJUVO4  Marc LaBelle \"NevermoreFU\"  [2, 2]   \n",
       "10015   A3K9OQPCI8UJE  B00AZUAORE                          MQ  [0, 1]   \n",
       "\n",
       "                                                                                                                                                                                                                                                                                                                                                                                                                                                                                        reviewText  \\\n",
       "5555   ok when i saw the bag i wa impressed nice looking and perfect style so i decided to buy it but the bag just arrive home 122311 and is way different from the one on the picture is a black bag with one ugly red line on the middle and it look like is not going to protect my guitar i am really upset i would not returned because i dont feel like fighting with no body but they shouldnt do that to the costumer we pay how much they asking so a least we should get what we pay for   \n",
       "7085                                                                                                       i had a friend with one of these and he love it i got one on his recommendation and when i put the battery in it it started smoking it did work for awhile i pulled the battery out and tried to ac adapter and it smoked again this time it did not work i am one of those people who give an item one try and if it doe not work hold a grudge i would not advise anybody to get this   \n",
       "7670                                                                                                                          i got a few of these a a christmas gift and theyre just bad i put them on my pedalboard where i previously had longer cable and these just didnt stay in the jack i have no other problem with these jack with any other cable but these if i play loudly and my room vibrates a bit the cable even work it way out of the jack a little bit and cut my signal awful   \n",
       "6695                                                                                                                                                                                                                                                                                                                                                                                      doesnt wotk with vamp 3 doubt it work at all red light always stay on and ive never seen the green light   \n",
       "10015                                                                                                                                                                                                                                                                          amazon and tc electronics will not tell you that you need a 9v power supply i didnt see any warning or advise in the point of purchase nor in the package this is an unfair practice from amazon and tc electronics   \n",
       "\n",
       "       overall                   summary  unixReviewTime   reviewTime  \\\n",
       "5555         1                   hate it      1324598400  12 23, 2011   \n",
       "7085         1                    Oh god      1356652800  12 28, 2012   \n",
       "7670         1    Doesn't cut it for me.      1391731200   02 7, 2014   \n",
       "6695         1              Doesn't work      1295913600  01 25, 2011   \n",
       "10015        1  Where's my power supply?      1402444800  06 11, 2014   \n",
       "\n",
       "        ratings  \n",
       "5555   Negative  \n",
       "7085   Negative  \n",
       "7670   Negative  \n",
       "6695   Negative  \n",
       "10015  Negative  "
      ]
     },
     "execution_count": 8,
     "metadata": {},
     "output_type": "execute_result"
    }
   ],
   "source": [
    "'''Lemmatization'''\n",
    "import nltk\n",
    "from nltk.stem import WordNetLemmatizer\n",
    "nltk.download('omw-1.4')\n",
    "lemmatizer = WordNetLemmatizer()\n",
    "study_data['reviewText'] = study_data['reviewText'].apply(lambda x : ' '.join([lemmatizer.lemmatize(word) for word in x.split()]))\n",
    "study_data.head()"
   ]
  },
  {
   "cell_type": "code",
   "execution_count": 9,
   "id": "d73e6457",
   "metadata": {},
   "outputs": [],
   "source": [
    "from sklearn.utils import shuffle\n",
    "study_data = shuffle(study_data)"
   ]
  },
  {
   "cell_type": "code",
   "execution_count": 10,
   "id": "c17815a6",
   "metadata": {},
   "outputs": [],
   "source": [
    "## Create training and test datasets\n",
    "\n",
    "X = study_data.iloc[:,:-1]\n",
    "y = study_data.iloc[:,-1]\n",
    "\n",
    "# Split data 70-30\n",
    "from sklearn.model_selection import train_test_split\n",
    "X_train, X_test, y_train, y_test = train_test_split(\n",
    "        X, y,stratify=y, test_size=0.3)"
   ]
  },
  {
   "cell_type": "code",
   "execution_count": 11,
   "id": "a5188b3a",
   "metadata": {},
   "outputs": [
    {
     "data": {
      "text/plain": [
       "Positive    280\n",
       "Negative    280\n",
       "Neutral     140\n",
       "Name: ratings, dtype: int64"
      ]
     },
     "execution_count": 11,
     "metadata": {},
     "output_type": "execute_result"
    }
   ],
   "source": [
    "y_train.value_counts()"
   ]
  },
  {
   "cell_type": "code",
   "execution_count": 12,
   "id": "a8172f9d",
   "metadata": {},
   "outputs": [
    {
     "data": {
      "text/plain": [
       "Negative    120\n",
       "Positive    120\n",
       "Neutral      60\n",
       "Name: ratings, dtype: int64"
      ]
     },
     "execution_count": 12,
     "metadata": {},
     "output_type": "execute_result"
    }
   ],
   "source": [
    "y_test.value_counts()"
   ]
  },
  {
   "cell_type": "code",
   "execution_count": 13,
   "id": "d1400f37",
   "metadata": {},
   "outputs": [
    {
     "data": {
      "text/plain": [
       "Negative    400\n",
       "Positive    400\n",
       "Neutral     200\n",
       "Name: ratings, dtype: int64"
      ]
     },
     "execution_count": 13,
     "metadata": {},
     "output_type": "execute_result"
    }
   ],
   "source": [
    "study_data['ratings'].value_counts()"
   ]
  },
  {
   "cell_type": "code",
   "execution_count": 14,
   "id": "763d8703",
   "metadata": {},
   "outputs": [
    {
     "data": {
      "text/html": [
       "<div>\n",
       "<style scoped>\n",
       "    .dataframe tbody tr th:only-of-type {\n",
       "        vertical-align: middle;\n",
       "    }\n",
       "\n",
       "    .dataframe tbody tr th {\n",
       "        vertical-align: top;\n",
       "    }\n",
       "\n",
       "    .dataframe thead th {\n",
       "        text-align: right;\n",
       "    }\n",
       "</style>\n",
       "<table border=\"1\" class=\"dataframe\">\n",
       "  <thead>\n",
       "    <tr style=\"text-align: right;\">\n",
       "      <th></th>\n",
       "      <th>reviewerID</th>\n",
       "      <th>asin</th>\n",
       "      <th>reviewerName</th>\n",
       "      <th>helpful</th>\n",
       "      <th>reviewText</th>\n",
       "      <th>overall</th>\n",
       "      <th>summary</th>\n",
       "      <th>unixReviewTime</th>\n",
       "      <th>reviewTime</th>\n",
       "    </tr>\n",
       "  </thead>\n",
       "  <tbody>\n",
       "    <tr>\n",
       "      <th>9151</th>\n",
       "      <td>A3AOPVQ7EZHTWA</td>\n",
       "      <td>B005FKF1PY</td>\n",
       "      <td>frankp93 \"frankp93\"</td>\n",
       "      <td>[20, 22]</td>\n",
       "      <td>the n mini chromatic headstock tuner quickly recognized twelve pitch across a multioctave range of electric bass guitar and mandolin the accidental appear a sharp or flat toggled using the alternate function of the frequency buttonthe tuner view window is slightly larger than a chiclet but brightness and resolution are fine for dimlylit space one thing thats le than ideal is the charcoal color of the tuner itself if youve ever dropped stuff on dark stage you know what i mean id wager the back of most headstock skew to lighter tone than darker so if discretion is what the manufacturer is emphasizing a lighter color may work betterthe note appear red when out of tune their color change to green a a rough marker you then continue fine tuning using the vertical bar that appear on both side of the note theyve gone to length to make the tuner stagefriendly but id much prefer the green color mean fine tuned and done that way i can look from a distance i should only have to bother with the bar if im struggling to home in and in my experience thats the exception rather than the rule and usually caused by new string slack under the bridge pin a slipping tuner etc midlife string tend to stretch and loosen predictably so long a you dont use a lot of altered tuningsthe n is designed to be clipped discretely to your instrument headstock and viewed from the back im a lefty and unlike some other tuner i appreciate the swiveling base that allows me to view the screen rightside upthe viewer doesnt extend far above the headstock surface and felt a bit cramped on my l4 with large new yorkerstyle tuner on headstock with more bare wood like a strat or even my astyle mandolin it wa easier to find a comfortable spot for viewing that didnt obstruct my hand while turning keysat first i didnt like the ratchet clamp that attache to the headstock i could attach the tuner with one hand by squeezing the clamp tight but it felt like i needed two to remove it one to press the release and another to pull the clamp out after a little practice however i found this wasnt the case and the touch required isnt difficult at allthe tuner constructed in a highimpact composite similar to those parachutestyle clamp you see on backpack it feel durable and very unlikely to break although i didnt try stomping on iti wa impressed the battery come uninstalled in a separate small bag the battery door ha a concave slot for easy opening with a pick or a coin the tuner ha an autoshutoff function to preserve battery lifethe power and frequency button are just nib really id prefer they be larger with more surface and a bit of click to them the tuner can be calibrated in integer step from 430 to 450 if 440 doesnt work for youone advantage of a chromatic tuner is you can tune to a chord and arent limited to usually diatonic open string for myself i only use tuner to set the pitch of one string usually the low a for guitar or bass and low g for mandolin in my opinion tuning a fretted instrument completely by open string is only slightly better than tuning it completely with harmonic and neither doe the job well intonation is subject to a bunch of variable string action and thickness neck relief fret condition nut and bridge conditiononce i have a single string to pitch i match fretted and open string unison and octave after a while you learn which combination work best for each instrumenti used to love staring at those pignosesized strobatuners sitting on amp and never faulted a musician who took their time to tune accurately i wish many more did im not quite sure how we went from we tune because we care to im so embarrassed to be standing here tuning i hope no one notice but the n mini headstock tuner questionable design choice and all doe what it say with a minimum of fuss</td>\n",
       "      <td>3</td>\n",
       "      <td>Detects Pitch Well, But Could Be Friendlier to Use</td>\n",
       "      <td>1319587200</td>\n",
       "      <td>10 26, 2011</td>\n",
       "    </tr>\n",
       "    <tr>\n",
       "      <th>7955</th>\n",
       "      <td>A1EMD22HC94SI1</td>\n",
       "      <td>B003HGFRO8</td>\n",
       "      <td>D. Dulin \"Dave D\"</td>\n",
       "      <td>[1, 2]</td>\n",
       "      <td>good but it not fit properly defenley better then bone thogh i did have to sand it to try to make it fit good and i did put it on my epiphone lp it doe give a nice blue tone beause it not bone but i had to take it off case it just did not fit right</td>\n",
       "      <td>4</td>\n",
       "      <td>good</td>\n",
       "      <td>1354492800</td>\n",
       "      <td>12 3, 2012</td>\n",
       "    </tr>\n",
       "    <tr>\n",
       "      <th>1562</th>\n",
       "      <td>A1EWYZI4ZHU9XZ</td>\n",
       "      <td>B0002E2G24</td>\n",
       "      <td>Mark J</td>\n",
       "      <td>[3, 3]</td>\n",
       "      <td>this switch doe work but you should look before you leap the switch travel is greater than it is for a standard 3way switch and if you use the common fender replacement control plate or one that wa only intended for a 3way switch it may not fit you could fairly easily alter the plate but if you want the cleanest look possible you may want to investigate a new control plate</td>\n",
       "      <td>3</td>\n",
       "      <td>Make sure your control plate fits</td>\n",
       "      <td>1358467200</td>\n",
       "      <td>01 18, 2013</td>\n",
       "    </tr>\n",
       "    <tr>\n",
       "      <th>5392</th>\n",
       "      <td>A3FA334BIFOMRD</td>\n",
       "      <td>B000RKVH0K</td>\n",
       "      <td>K. Meagher \"MFT\"</td>\n",
       "      <td>[2, 2]</td>\n",
       "      <td>yes this ie every bit a good a the shure sm 58 but you dont get the cool pouch the 57 version is also like it shure counterpart great sound and great deal yes i am a musician too</td>\n",
       "      <td>5</td>\n",
       "      <td>It's an SM 58 for 1/5th the price!!!</td>\n",
       "      <td>1356220800</td>\n",
       "      <td>12 23, 2012</td>\n",
       "    </tr>\n",
       "    <tr>\n",
       "      <th>5256</th>\n",
       "      <td>AKHWZ3S1UVZAO</td>\n",
       "      <td>B000P5LVSK</td>\n",
       "      <td>Hagen LeBray</td>\n",
       "      <td>[0, 0]</td>\n",
       "      <td>nice pick a bit small for my preference great for picking kind of harsh for strumming quality seems topnotch some guitarist will love these</td>\n",
       "      <td>4</td>\n",
       "      <td>Nice Picks</td>\n",
       "      <td>1396656000</td>\n",
       "      <td>04 5, 2014</td>\n",
       "    </tr>\n",
       "    <tr>\n",
       "      <th>...</th>\n",
       "      <td>...</td>\n",
       "      <td>...</td>\n",
       "      <td>...</td>\n",
       "      <td>...</td>\n",
       "      <td>...</td>\n",
       "      <td>...</td>\n",
       "      <td>...</td>\n",
       "      <td>...</td>\n",
       "      <td>...</td>\n",
       "    </tr>\n",
       "    <tr>\n",
       "      <th>9777</th>\n",
       "      <td>A2053ZJUGCKUA5</td>\n",
       "      <td>B0087UPSLQ</td>\n",
       "      <td>LARRY</td>\n",
       "      <td>[0, 0]</td>\n",
       "      <td>update received 6 of these 5 are ok but one ha a bad weld joint at the top retainer it wa held by only one small tac weldi got what i paid for cheap price and cheap product no excuse to make this kind of low quality guitar stand putting a 500 guitar on this is asking for guitar damage when the stand fall apart not worth the time to send it back to amazon one star only for this product good chance that you will get a crappy one if you order this le than one star for this piece of</td>\n",
       "      <td>1</td>\n",
       "      <td>LIGHTWEIGHT,ATTRACTIVE, INEXPENSIVE</td>\n",
       "      <td>1366243200</td>\n",
       "      <td>04 18, 2013</td>\n",
       "    </tr>\n",
       "    <tr>\n",
       "      <th>5325</th>\n",
       "      <td>A3CSWB0L9ZLD94</td>\n",
       "      <td>B000PO30QM</td>\n",
       "      <td>Filipe N. Marques \"fnmphoto\"</td>\n",
       "      <td>[0, 1]</td>\n",
       "      <td>5 foot is a weird length for a cable it really only ha one use when youre sitting right next to your practice amp just dont wander too far off this cable is perfect for a kid who is going to hisher guitar lesson and ha to plug ini bought two of these for the home studio to jack in a guitar with a pedal or two in between i feel chained to my workstation just my experience get a 10 foot and be freehope it help</td>\n",
       "      <td>3</td>\n",
       "      <td>Too long and Too short</td>\n",
       "      <td>1402272000</td>\n",
       "      <td>06 9, 2014</td>\n",
       "    </tr>\n",
       "    <tr>\n",
       "      <th>1035</th>\n",
       "      <td>AA169UZEJYAV1</td>\n",
       "      <td>B0002D0E8S</td>\n",
       "      <td>Luckystar</td>\n",
       "      <td>[0, 0]</td>\n",
       "      <td>i like purple and it is purple the strap is sturdy it work what else need to be said it arrived timely is decent quality and a nice color</td>\n",
       "      <td>4</td>\n",
       "      <td>Strap for the Guitar</td>\n",
       "      <td>1385251200</td>\n",
       "      <td>11 24, 2013</td>\n",
       "    </tr>\n",
       "    <tr>\n",
       "      <th>8077</th>\n",
       "      <td>A1FCX548TD6DLP</td>\n",
       "      <td>B003QTM9O2</td>\n",
       "      <td>Cooper the Beagle</td>\n",
       "      <td>[0, 0]</td>\n",
       "      <td>at the time i bought wa 16 mine arrived broken so it had gone back reality is that it is not that good regardless of mine being broken not upset about that stuff happens it is just not a good stand light construcion unstable topples easily and a likely candidate to be broken if dropped the protective materails on the stand to keep product from scratching your instrument are the soft shiny runner like materail and it stick to my instrument neck so i pick up uke and i get a stand until the stickiness is seprated by gravity happened every time yes i tried out the stand even though broken and it proved to be a bad choice back it ha gone 5 star to amazon return policy thouh</td>\n",
       "      <td>1</td>\n",
       "      <td>Poorly Made, Flimsy.  Buy Another Product</td>\n",
       "      <td>1389225600</td>\n",
       "      <td>01 9, 2014</td>\n",
       "    </tr>\n",
       "    <tr>\n",
       "      <th>7446</th>\n",
       "      <td>A1JTDD2GQ66AOO</td>\n",
       "      <td>B002R2IUEW</td>\n",
       "      <td>Gail</td>\n",
       "      <td>[0, 0]</td>\n",
       "      <td>the pick arrived quickly within a couple day of my order they work well after adjusting them to fit the thumb pick did not work so well for u it wa too big for me to get to fit in any way and too small for my friend to use</td>\n",
       "      <td>4</td>\n",
       "      <td>Good picks for price.</td>\n",
       "      <td>1388966400</td>\n",
       "      <td>01 6, 2014</td>\n",
       "    </tr>\n",
       "  </tbody>\n",
       "</table>\n",
       "<p>700 rows × 9 columns</p>\n",
       "</div>"
      ],
      "text/plain": [
       "          reviewerID        asin                  reviewerName   helpful  \\\n",
       "9151  A3AOPVQ7EZHTWA  B005FKF1PY           frankp93 \"frankp93\"  [20, 22]   \n",
       "7955  A1EMD22HC94SI1  B003HGFRO8             D. Dulin \"Dave D\"    [1, 2]   \n",
       "1562  A1EWYZI4ZHU9XZ  B0002E2G24                        Mark J    [3, 3]   \n",
       "5392  A3FA334BIFOMRD  B000RKVH0K              K. Meagher \"MFT\"    [2, 2]   \n",
       "5256   AKHWZ3S1UVZAO  B000P5LVSK                  Hagen LeBray    [0, 0]   \n",
       "...              ...         ...                           ...       ...   \n",
       "9777  A2053ZJUGCKUA5  B0087UPSLQ                         LARRY    [0, 0]   \n",
       "5325  A3CSWB0L9ZLD94  B000PO30QM  Filipe N. Marques \"fnmphoto\"    [0, 1]   \n",
       "1035   AA169UZEJYAV1  B0002D0E8S                     Luckystar    [0, 0]   \n",
       "8077  A1FCX548TD6DLP  B003QTM9O2             Cooper the Beagle    [0, 0]   \n",
       "7446  A1JTDD2GQ66AOO  B002R2IUEW                          Gail    [0, 0]   \n",
       "\n",
       "                                                                                                                                                                                                                                                                                                                                                                                                                                                                                                                                                                                                                                                                                                                                                                                                                                                                                                                                                                                                                                                                                                                                                                                                                                                                                                                                                                                                                                                                                                                                                                                                                                                                                                                                                                                                                                                                                                                                                                                                                                                                                                                                                                                                                                                                                                                                                                                                                                                                                                                                                                                                                                                                                                                                                                                                                                                                                                                                                                                                                                                                                                                                                                                                                                                                                                                                                                                                                                                                                                                                                                                                                                                                                                                                                                                                                                                                                                                                      reviewText  \\\n",
       "9151  the n mini chromatic headstock tuner quickly recognized twelve pitch across a multioctave range of electric bass guitar and mandolin the accidental appear a sharp or flat toggled using the alternate function of the frequency buttonthe tuner view window is slightly larger than a chiclet but brightness and resolution are fine for dimlylit space one thing thats le than ideal is the charcoal color of the tuner itself if youve ever dropped stuff on dark stage you know what i mean id wager the back of most headstock skew to lighter tone than darker so if discretion is what the manufacturer is emphasizing a lighter color may work betterthe note appear red when out of tune their color change to green a a rough marker you then continue fine tuning using the vertical bar that appear on both side of the note theyve gone to length to make the tuner stagefriendly but id much prefer the green color mean fine tuned and done that way i can look from a distance i should only have to bother with the bar if im struggling to home in and in my experience thats the exception rather than the rule and usually caused by new string slack under the bridge pin a slipping tuner etc midlife string tend to stretch and loosen predictably so long a you dont use a lot of altered tuningsthe n is designed to be clipped discretely to your instrument headstock and viewed from the back im a lefty and unlike some other tuner i appreciate the swiveling base that allows me to view the screen rightside upthe viewer doesnt extend far above the headstock surface and felt a bit cramped on my l4 with large new yorkerstyle tuner on headstock with more bare wood like a strat or even my astyle mandolin it wa easier to find a comfortable spot for viewing that didnt obstruct my hand while turning keysat first i didnt like the ratchet clamp that attache to the headstock i could attach the tuner with one hand by squeezing the clamp tight but it felt like i needed two to remove it one to press the release and another to pull the clamp out after a little practice however i found this wasnt the case and the touch required isnt difficult at allthe tuner constructed in a highimpact composite similar to those parachutestyle clamp you see on backpack it feel durable and very unlikely to break although i didnt try stomping on iti wa impressed the battery come uninstalled in a separate small bag the battery door ha a concave slot for easy opening with a pick or a coin the tuner ha an autoshutoff function to preserve battery lifethe power and frequency button are just nib really id prefer they be larger with more surface and a bit of click to them the tuner can be calibrated in integer step from 430 to 450 if 440 doesnt work for youone advantage of a chromatic tuner is you can tune to a chord and arent limited to usually diatonic open string for myself i only use tuner to set the pitch of one string usually the low a for guitar or bass and low g for mandolin in my opinion tuning a fretted instrument completely by open string is only slightly better than tuning it completely with harmonic and neither doe the job well intonation is subject to a bunch of variable string action and thickness neck relief fret condition nut and bridge conditiononce i have a single string to pitch i match fretted and open string unison and octave after a while you learn which combination work best for each instrumenti used to love staring at those pignosesized strobatuners sitting on amp and never faulted a musician who took their time to tune accurately i wish many more did im not quite sure how we went from we tune because we care to im so embarrassed to be standing here tuning i hope no one notice but the n mini headstock tuner questionable design choice and all doe what it say with a minimum of fuss   \n",
       "7955                                                                                                                                                                                                                                                                                                                                                                                                                                                                                                                                                                                                                                                                                                                                                                                                                                                                                                                                                                                                                                                                                                                                                                                                                                                                                                                                                                                                                                                                                                                                                                                                                                                                                                                                                                                                                                                                                                                                                                                                                                                                                                                                                                                                                                                                                                                                                                                                                                                                                                                                                                                                                                                                                                                                                                                                                                                                                                                                                                                                                                                                                                                                                                                                                                                                                                                                                                                                                                                                                                                                                                                                                                                                                    good but it not fit properly defenley better then bone thogh i did have to sand it to try to make it fit good and i did put it on my epiphone lp it doe give a nice blue tone beause it not bone but i had to take it off case it just did not fit right   \n",
       "1562                                                                                                                                                                                                                                                                                                                                                                                                                                                                                                                                                                                                                                                                                                                                                                                                                                                                                                                                                                                                                                                                                                                                                                                                                                                                                                                                                                                                                                                                                                                                                                                                                                                                                                                                                                                                                                                                                                                                                                                                                                                                                                                                                                                                                                                                                                                                                                                                                                                                                                                                                                                                                                                                                                                                                                                                                                                                                                                                                                                                                                                                                                                                                                                                                                                                                                                                                                                                                                                                                                                                                     this switch doe work but you should look before you leap the switch travel is greater than it is for a standard 3way switch and if you use the common fender replacement control plate or one that wa only intended for a 3way switch it may not fit you could fairly easily alter the plate but if you want the cleanest look possible you may want to investigate a new control plate   \n",
       "5392                                                                                                                                                                                                                                                                                                                                                                                                                                                                                                                                                                                                                                                                                                                                                                                                                                                                                                                                                                                                                                                                                                                                                                                                                                                                                                                                                                                                                                                                                                                                                                                                                                                                                                                                                                                                                                                                                                                                                                                                                                                                                                                                                                                                                                                                                                                                                                                                                                                                                                                                                                                                                                                                                                                                                                                                                                                                                                                                                                                                                                                                                                                                                                                                                                                                                                                                                                                                                                                                                                                                                                                                                                                                                                                                                          yes this ie every bit a good a the shure sm 58 but you dont get the cool pouch the 57 version is also like it shure counterpart great sound and great deal yes i am a musician too   \n",
       "5256                                                                                                                                                                                                                                                                                                                                                                                                                                                                                                                                                                                                                                                                                                                                                                                                                                                                                                                                                                                                                                                                                                                                                                                                                                                                                                                                                                                                                                                                                                                                                                                                                                                                                                                                                                                                                                                                                                                                                                                                                                                                                                                                                                                                                                                                                                                                                                                                                                                                                                                                                                                                                                                                                                                                                                                                                                                                                                                                                                                                                                                                                                                                                                                                                                                                                                                                                                                                                                                                                                                                                                                                                                                                                                                                                                                                 nice pick a bit small for my preference great for picking kind of harsh for strumming quality seems topnotch some guitarist will love these   \n",
       "...                                                                                                                                                                                                                                                                                                                                                                                                                                                                                                                                                                                                                                                                                                                                                                                                                                                                                                                                                                                                                                                                                                                                                                                                                                                                                                                                                                                                                                                                                                                                                                                                                                                                                                                                                                                                                                                                                                                                                                                                                                                                                                                                                                                                                                                                                                                                                                                                                                                                                                                                                                                                                                                                                                                                                                                                                                                                                                                                                                                                                                                                                                                                                                                                                                                                                                                                                                                                                                                                                                                                                                                                                                                                                                                                                                                                                                                                                                                                          ...   \n",
       "9777                                                                                                                                                                                                                                                                                                                                                                                                                                                                                                                                                                                                                                                                                                                                                                                                                                                                                                                                                                                                                                                                                                                                                                                                                                                                                                                                                                                                                                                                                                                                                                                                                                                                                                                                                                                                                                                                                                                                                                                                                                                                                                                                                                                                                                                                                                                                                                                                                                                                                                                                                                                                                                                                                                                                                                                                                                                                                                                                                                                                                                                                                                                                                                                                                                                                                                                                                                                                                                         update received 6 of these 5 are ok but one ha a bad weld joint at the top retainer it wa held by only one small tac weldi got what i paid for cheap price and cheap product no excuse to make this kind of low quality guitar stand putting a 500 guitar on this is asking for guitar damage when the stand fall apart not worth the time to send it back to amazon one star only for this product good chance that you will get a crappy one if you order this le than one star for this piece of   \n",
       "5325                                                                                                                                                                                                                                                                                                                                                                                                                                                                                                                                                                                                                                                                                                                                                                                                                                                                                                                                                                                                                                                                                                                                                                                                                                                                                                                                                                                                                                                                                                                                                                                                                                                                                                                                                                                                                                                                                                                                                                                                                                                                                                                                                                                                                                                                                                                                                                                                                                                                                                                                                                                                                                                                                                                                                                                                                                                                                                                                                                                                                                                                                                                                                                                                                                                                                                                                                                                                                                                                                                                 5 foot is a weird length for a cable it really only ha one use when youre sitting right next to your practice amp just dont wander too far off this cable is perfect for a kid who is going to hisher guitar lesson and ha to plug ini bought two of these for the home studio to jack in a guitar with a pedal or two in between i feel chained to my workstation just my experience get a 10 foot and be freehope it help   \n",
       "1035                                                                                                                                                                                                                                                                                                                                                                                                                                                                                                                                                                                                                                                                                                                                                                                                                                                                                                                                                                                                                                                                                                                                                                                                                                                                                                                                                                                                                                                                                                                                                                                                                                                                                                                                                                                                                                                                                                                                                                                                                                                                                                                                                                                                                                                                                                                                                                                                                                                                                                                                                                                                                                                                                                                                                                                                                                                                                                                                                                                                                                                                                                                                                                                                                                                                                                                                                                                                                                                                                                                                                                                                                                                                                                                                                                                                   i like purple and it is purple the strap is sturdy it work what else need to be said it arrived timely is decent quality and a nice color   \n",
       "8077                                                                                                                                                                                                                                                                                                                                                                                                                                                                                                                                                                                                                                                                                                                                                                                                                                                                                                                                                                                                                                                                                                                                                                                                                                                                                                                                                                                                                                                                                                                                                                                                                                                                                                                                                                                                                                                                                                                                                                                                                                                                                                                                                                                                                                                                                                                                                                                                                                                                                                                                                                                                                                                                                                                                                                                                                                                                                                                                                                                                                                                                                                                                                                                                                                       at the time i bought wa 16 mine arrived broken so it had gone back reality is that it is not that good regardless of mine being broken not upset about that stuff happens it is just not a good stand light construcion unstable topples easily and a likely candidate to be broken if dropped the protective materails on the stand to keep product from scratching your instrument are the soft shiny runner like materail and it stick to my instrument neck so i pick up uke and i get a stand until the stickiness is seprated by gravity happened every time yes i tried out the stand even though broken and it proved to be a bad choice back it ha gone 5 star to amazon return policy thouh   \n",
       "7446                                                                                                                                                                                                                                                                                                                                                                                                                                                                                                                                                                                                                                                                                                                                                                                                                                                                                                                                                                                                                                                                                                                                                                                                                                                                                                                                                                                                                                                                                                                                                                                                                                                                                                                                                                                                                                                                                                                                                                                                                                                                                                                                                                                                                                                                                                                                                                                                                                                                                                                                                                                                                                                                                                                                                                                                                                                                                                                                                                                                                                                                                                                                                                                                                                                                                                                                                                                                                                                                                                                                                                                                                                                                                                              the pick arrived quickly within a couple day of my order they work well after adjusting them to fit the thumb pick did not work so well for u it wa too big for me to get to fit in any way and too small for my friend to use   \n",
       "\n",
       "      overall                                             summary  \\\n",
       "9151        3  Detects Pitch Well, But Could Be Friendlier to Use   \n",
       "7955        4                                                good   \n",
       "1562        3                   Make sure your control plate fits   \n",
       "5392        5                It's an SM 58 for 1/5th the price!!!   \n",
       "5256        4                                          Nice Picks   \n",
       "...       ...                                                 ...   \n",
       "9777        1                 LIGHTWEIGHT,ATTRACTIVE, INEXPENSIVE   \n",
       "5325        3                              Too long and Too short   \n",
       "1035        4                                Strap for the Guitar   \n",
       "8077        1           Poorly Made, Flimsy.  Buy Another Product   \n",
       "7446        4                               Good picks for price.   \n",
       "\n",
       "      unixReviewTime   reviewTime  \n",
       "9151      1319587200  10 26, 2011  \n",
       "7955      1354492800   12 3, 2012  \n",
       "1562      1358467200  01 18, 2013  \n",
       "5392      1356220800  12 23, 2012  \n",
       "5256      1396656000   04 5, 2014  \n",
       "...              ...          ...  \n",
       "9777      1366243200  04 18, 2013  \n",
       "5325      1402272000   06 9, 2014  \n",
       "1035      1385251200  11 24, 2013  \n",
       "8077      1389225600   01 9, 2014  \n",
       "7446      1388966400   01 6, 2014  \n",
       "\n",
       "[700 rows x 9 columns]"
      ]
     },
     "execution_count": 14,
     "metadata": {},
     "output_type": "execute_result"
    }
   ],
   "source": [
    "X_train"
   ]
  },
  {
   "cell_type": "markdown",
   "id": "ed01e86e",
   "metadata": {},
   "source": [
    "### 3. Text Representation"
   ]
  },
  {
   "cell_type": "markdown",
   "id": "a8975e57",
   "metadata": {},
   "source": [
    "### 3.1 TF-IDF"
   ]
  },
  {
   "cell_type": "code",
   "execution_count": 15,
   "id": "efdde331",
   "metadata": {},
   "outputs": [
    {
     "data": {
      "text/plain": [
       "(700, 6512)"
      ]
     },
     "execution_count": 15,
     "metadata": {},
     "output_type": "execute_result"
    }
   ],
   "source": [
    "#TF-IDF\n",
    "\n",
    "#Import TfIdfVectorizer from the scikit-learn library\n",
    "from sklearn.feature_extraction.text import TfidfVectorizer\n",
    "\n",
    "#Define a TF-IDF Vectorizer Object. Remove all english stopwords\n",
    "tfidf = TfidfVectorizer()\n",
    "\n",
    "#Construct the required TF-IDF matrix by applying the fit_transform method on the overview feature\n",
    "tfidf_matrix = tfidf.fit_transform(X_train['reviewText'])\n",
    "\n",
    "#Output the shape of tfidf_matrix\n",
    "tfidf_matrix.shape"
   ]
  },
  {
   "cell_type": "code",
   "execution_count": 16,
   "id": "c78d24bb",
   "metadata": {},
   "outputs": [],
   "source": [
    "tfidf_test = tfidf.transform(X_test['reviewText'])"
   ]
  },
  {
   "cell_type": "code",
   "execution_count": 17,
   "id": "91cc9f1c",
   "metadata": {},
   "outputs": [
    {
     "data": {
      "text/plain": [
       "(300, 6512)"
      ]
     },
     "execution_count": 17,
     "metadata": {},
     "output_type": "execute_result"
    }
   ],
   "source": [
    "tfidf_test.shape"
   ]
  },
  {
   "cell_type": "code",
   "execution_count": 18,
   "id": "aa3ba9e0",
   "metadata": {},
   "outputs": [
    {
     "data": {
      "text/plain": [
       "(700, 6512)"
      ]
     },
     "execution_count": 18,
     "metadata": {},
     "output_type": "execute_result"
    }
   ],
   "source": [
    "#Bag of words for Text Representation\n",
    "\n",
    "from sklearn.feature_extraction.text import CountVectorizer\n",
    "\n",
    "CountVec = CountVectorizer()\n",
    "\n",
    "# Transform\n",
    "Count_data = CountVec.fit_transform(X_train['reviewText'])\n",
    "Count_data.shape\n",
    "\n"
   ]
  },
  {
   "cell_type": "code",
   "execution_count": 19,
   "id": "25f83186",
   "metadata": {},
   "outputs": [],
   "source": [
    "from sklearn.preprocessing import LabelEncoder\n",
    "\n",
    "enc = LabelEncoder()\n",
    "actual_labels=enc.fit_transform(y_train)\n",
    "actual_labels_test = enc.transform(y_test)"
   ]
  },
  {
   "cell_type": "markdown",
   "id": "f39a2311",
   "metadata": {},
   "source": [
    "# SUPPORT VECTOR MACHINE"
   ]
  },
  {
   "cell_type": "code",
   "execution_count": 20,
   "id": "d94d9acb",
   "metadata": {},
   "outputs": [],
   "source": [
    "from sklearn.svm import SVC"
   ]
  },
  {
   "cell_type": "code",
   "execution_count": 21,
   "id": "e1081b5d",
   "metadata": {},
   "outputs": [],
   "source": [
    "svc_linear = SVC(kernel='linear', C=1, decision_function_shape='ovo').fit(tfidf_matrix, actual_labels)\n",
    "svc_rbf = SVC(kernel='rbf', gamma=1, C=1, decision_function_shape='ovo').fit(tfidf_matrix, actual_labels)\n",
    "svc_poly = SVC(kernel='poly', degree=3, C=1, decision_function_shape='ovo').fit(tfidf_matrix, actual_labels)\n",
    "svc_sig = SVC(kernel='sigmoid', C=1, decision_function_shape='ovo').fit(tfidf_matrix, actual_labels)"
   ]
  },
  {
   "cell_type": "code",
   "execution_count": 22,
   "id": "d49b779a",
   "metadata": {},
   "outputs": [],
   "source": [
    "pred_linear = svc_linear.predict(tfidf_test)\n",
    "pred_rbf = svc_rbf.predict(tfidf_test)\n",
    "pred_poly = svc_poly.predict(tfidf_test)\n",
    "pred_sig = svc_sig.predict(tfidf_test)"
   ]
  },
  {
   "cell_type": "code",
   "execution_count": 23,
   "id": "5c05309f",
   "metadata": {},
   "outputs": [
    {
     "data": {
      "text/plain": [
       "(300,)"
      ]
     },
     "execution_count": 23,
     "metadata": {},
     "output_type": "execute_result"
    }
   ],
   "source": [
    "pred_sig.shape"
   ]
  },
  {
   "cell_type": "code",
   "execution_count": 24,
   "id": "0a89dc93",
   "metadata": {},
   "outputs": [],
   "source": [
    "from sklearn.metrics import accuracy_score, precision_score, recall_score, f1_score, confusion_matrix"
   ]
  },
  {
   "cell_type": "markdown",
   "id": "d362bc9e",
   "metadata": {},
   "source": [
    "# SVM LINEAR KERNAL"
   ]
  },
  {
   "cell_type": "code",
   "execution_count": 25,
   "id": "7751430f",
   "metadata": {},
   "outputs": [
    {
     "name": "stdout",
     "output_type": "stream",
     "text": [
      "Accuracy using Linear SVM: 0.5533333333333333\n",
      "Precision using Linear SVM: 0.5258288253911249\n",
      "Recall using Linear SVM: 0.5533333333333333\n",
      "F1 using Linear SVM: 0.5160978740891364\n",
      "Confusion Matrix using Linear SVM: [[83  1 36]\n",
      " [31  5 24]\n",
      " [35  7 78]]\n"
     ]
    }
   ],
   "source": [
    "acc_linear = accuracy_score(actual_labels_test, pred_linear)\n",
    "precision_linear = precision_score(actual_labels_test, pred_linear, average='weighted')\n",
    "recall_linear = recall_score(actual_labels_test, pred_linear, average= 'weighted')\n",
    "f1_linear = f1_score(actual_labels_test, pred_linear, average= 'weighted')\n",
    "cm_linear = confusion_matrix(actual_labels_test, pred_linear)\n",
    "\n",
    "print(f'Accuracy using Linear SVM: {acc_linear}')\n",
    "print(f'Precision using Linear SVM: {precision_linear}')\n",
    "print(f'Recall using Linear SVM: {recall_linear}')\n",
    "print(f'F1 using Linear SVM: {f1_linear}')\n",
    "print(f'Confusion Matrix using Linear SVM: {cm_linear}')"
   ]
  },
  {
   "cell_type": "markdown",
   "id": "1792a166",
   "metadata": {},
   "source": [
    "# SVM RBF KERNEL"
   ]
  },
  {
   "cell_type": "code",
   "execution_count": 26,
   "id": "1916b066",
   "metadata": {},
   "outputs": [
    {
     "name": "stdout",
     "output_type": "stream",
     "text": [
      "Accuracy using rbf SVM: 0.58\n",
      "Precision using rbf SVM: 0.46451383011892566\n",
      "Recall using rbf SVM: 0.58\n",
      "F1 using rbf SVM: 0.5155948442711836\n",
      "Confusion Matrix using rbf SVM: [[89  0 31]\n",
      " [33  0 27]\n",
      " [35  0 85]]\n"
     ]
    },
    {
     "name": "stderr",
     "output_type": "stream",
     "text": [
      "C:\\Dev\\anaconda3\\envs\\comp262_2\\lib\\site-packages\\sklearn\\metrics\\_classification.py:1318: UndefinedMetricWarning: Precision is ill-defined and being set to 0.0 in labels with no predicted samples. Use `zero_division` parameter to control this behavior.\n",
      "  _warn_prf(average, modifier, msg_start, len(result))\n"
     ]
    }
   ],
   "source": [
    "acc_rbf = accuracy_score(actual_labels_test, pred_rbf)\n",
    "precision_rbf = precision_score(actual_labels_test, pred_rbf, average='weighted')\n",
    "recall_rbf = recall_score(actual_labels_test, pred_rbf, average= 'weighted')\n",
    "f1_rbf = f1_score(actual_labels_test, pred_rbf, average= 'weighted')\n",
    "cm_rbf = confusion_matrix(actual_labels_test, pred_rbf)\n",
    "\n",
    "print(f'Accuracy using rbf SVM: {acc_rbf}')\n",
    "print(f'Precision using rbf SVM: {precision_rbf}')\n",
    "print(f'Recall using rbf SVM: {recall_rbf}')\n",
    "print(f'F1 using rbf SVM: {f1_rbf}')\n",
    "print(f'Confusion Matrix using rbf SVM: {cm_rbf}')"
   ]
  },
  {
   "cell_type": "markdown",
   "id": "a3f31bd8",
   "metadata": {},
   "source": [
    "# SVM POLY KERNEL"
   ]
  },
  {
   "cell_type": "code",
   "execution_count": 27,
   "id": "c48e7426",
   "metadata": {},
   "outputs": [
    {
     "name": "stdout",
     "output_type": "stream",
     "text": [
      "Accuracy using poly SVM: 0.5333333333333333\n",
      "Precision using poly SVM: 0.4272447477585976\n",
      "Recall using poly SVM: 0.5333333333333333\n",
      "F1 using poly SVM: 0.47400815721171674\n",
      "Confusion Matrix using poly SVM: [[77  0 43]\n",
      " [27  0 33]\n",
      " [37  0 83]]\n"
     ]
    },
    {
     "name": "stderr",
     "output_type": "stream",
     "text": [
      "C:\\Dev\\anaconda3\\envs\\comp262_2\\lib\\site-packages\\sklearn\\metrics\\_classification.py:1318: UndefinedMetricWarning: Precision is ill-defined and being set to 0.0 in labels with no predicted samples. Use `zero_division` parameter to control this behavior.\n",
      "  _warn_prf(average, modifier, msg_start, len(result))\n"
     ]
    }
   ],
   "source": [
    "acc_poly = accuracy_score(actual_labels_test, pred_poly)\n",
    "precision_poly = precision_score(actual_labels_test, pred_poly, average='weighted')\n",
    "recall_poly = recall_score(actual_labels_test, pred_poly, average= 'weighted')\n",
    "f1_poly = f1_score(actual_labels_test, pred_poly, average= 'weighted')\n",
    "cm_poly = confusion_matrix(actual_labels_test, pred_poly)\n",
    "\n",
    "print(f'Accuracy using poly SVM: {acc_poly}')\n",
    "print(f'Precision using poly SVM: {precision_poly}')\n",
    "print(f'Recall using poly SVM: {recall_poly}')\n",
    "print(f'F1 using poly SVM: {f1_poly}')\n",
    "print(f'Confusion Matrix using poly SVM: {cm_poly}')"
   ]
  },
  {
   "cell_type": "markdown",
   "id": "01548074",
   "metadata": {},
   "source": [
    "# SVM SIGMOID KERNEL"
   ]
  },
  {
   "cell_type": "code",
   "execution_count": 28,
   "id": "ad98cf50",
   "metadata": {},
   "outputs": [
    {
     "name": "stdout",
     "output_type": "stream",
     "text": [
      "Accuracy using sigmoid SVM: 0.5566666666666666\n",
      "Precision using sigmoid SVM: 0.5020572366877786\n",
      "Recall using sigmoid SVM: 0.5566666666666666\n",
      "F1 using sigmoid SVM: 0.5080010142704526\n",
      "Confusion Matrix using sigmoid SVM: [[83  1 36]\n",
      " [31  2 27]\n",
      " [33  5 82]]\n"
     ]
    }
   ],
   "source": [
    "acc_sig = accuracy_score(actual_labels_test, pred_sig)\n",
    "precision_sig = precision_score(actual_labels_test, pred_sig, average='weighted')\n",
    "recall_sig = recall_score(actual_labels_test, pred_sig, average= 'weighted')\n",
    "f1_sig = f1_score(actual_labels_test, pred_sig, average= 'weighted')\n",
    "cm_sig = confusion_matrix(actual_labels_test, pred_sig)\n",
    "\n",
    "print(f'Accuracy using sigmoid SVM: {acc_sig}')\n",
    "print(f'Precision using sigmoid SVM: {precision_sig}')\n",
    "print(f'Recall using sigmoid SVM: {recall_sig}')\n",
    "print(f'F1 using sigmoid SVM: {f1_sig}')\n",
    "print(f'Confusion Matrix using sigmoid SVM: {cm_sig}')"
   ]
  },
  {
   "cell_type": "markdown",
   "id": "e2d18eca",
   "metadata": {},
   "source": [
    "# LOGISTIC REGRESSION"
   ]
  },
  {
   "cell_type": "code",
   "execution_count": 29,
   "id": "cc4efc88",
   "metadata": {},
   "outputs": [],
   "source": [
    "from sklearn.linear_model import LogisticRegression\n",
    "\n",
    "lg_sag = LogisticRegression(solver='sag', class_weight= {0:2 , 1:3, 2:2 }, max_iter=1400).fit(tfidf_matrix, actual_labels)\n",
    "pred_sag = lg_sag.predict(tfidf_test)"
   ]
  },
  {
   "cell_type": "code",
   "execution_count": 30,
   "id": "4d2b6723",
   "metadata": {},
   "outputs": [
    {
     "name": "stdout",
     "output_type": "stream",
     "text": [
      "Accuracy using Logistic Regression: 0.56\n",
      "Precision using Logistic Regression: 0.5396382428940568\n",
      "Recall using Logistic Regression: 0.56\n",
      "F1 using Logistic Regression: 0.5453082919914953\n",
      "Confusion Matrix using Logistic Regression: [[78  9 33]\n",
      " [24 12 24]\n",
      " [27 15 78]]\n"
     ]
    }
   ],
   "source": [
    "acc_sag = accuracy_score(actual_labels_test, pred_sag)\n",
    "precision_sag = precision_score(actual_labels_test, pred_sag, average='weighted')\n",
    "recall_sag = recall_score(actual_labels_test, pred_sag, average= 'weighted')\n",
    "f1_sag = f1_score(actual_labels_test, pred_sag, average= 'weighted')\n",
    "cm_sag = confusion_matrix(actual_labels_test, pred_sag)\n",
    "\n",
    "print(f'Accuracy using Logistic Regression: {acc_sag}')\n",
    "print(f'Precision using Logistic Regression: {precision_sag}')\n",
    "print(f'Recall using Logistic Regression: {recall_sag}')\n",
    "print(f'F1 using Logistic Regression: {f1_sag}')\n",
    "print(f'Confusion Matrix using Logistic Regression: {cm_sag}')"
   ]
  },
  {
   "cell_type": "markdown",
   "id": "fe4b628d",
   "metadata": {},
   "source": [
    "# NAIVE BAYES "
   ]
  },
  {
   "cell_type": "code",
   "execution_count": 31,
   "id": "0a2aeb42",
   "metadata": {},
   "outputs": [],
   "source": [
    "from sklearn.naive_bayes import MultinomialNB"
   ]
  },
  {
   "cell_type": "code",
   "execution_count": 32,
   "id": "cd2eca70",
   "metadata": {},
   "outputs": [],
   "source": [
    "nb = MultinomialNB(alpha=0.1).fit(tfidf_matrix, actual_labels)\n",
    "pred_nb = nb.predict(tfidf_test)"
   ]
  },
  {
   "cell_type": "code",
   "execution_count": 33,
   "id": "bd59ae53",
   "metadata": {},
   "outputs": [
    {
     "name": "stdout",
     "output_type": "stream",
     "text": [
      "Accuracy using Naïve Bayes: 0.5933333333333334\n",
      "Precision using Naïve Bayes: 0.4771882574737409\n",
      "Recall using Naïve Bayes: 0.5933333333333334\n",
      "F1 using Naïve Bayes: 0.5285371702637889\n",
      "Confusion Matrix using Naïve Bayes: [[87  1 32]\n",
      " [25  0 35]\n",
      " [29  0 91]]\n"
     ]
    }
   ],
   "source": [
    "acc_nb = accuracy_score(actual_labels_test, pred_nb)\n",
    "precision_nb = precision_score(actual_labels_test, pred_nb, average='weighted')\n",
    "recall_nb = recall_score(actual_labels_test, pred_nb, average= 'weighted')\n",
    "f1_nb = f1_score(actual_labels_test, pred_nb, average= 'weighted')\n",
    "cm_nb = confusion_matrix(actual_labels_test, pred_nb)\n",
    "\n",
    "print(f'Accuracy using Naïve Bayes: {acc_nb}')\n",
    "print(f'Precision using Naïve Bayes: {precision_nb}')\n",
    "print(f'Recall using Naïve Bayes: {recall_nb}')\n",
    "print(f'F1 using Naïve Bayes: {f1_nb}')\n",
    "print(f'Confusion Matrix using Naïve Bayes: {cm_nb}')"
   ]
  },
  {
   "cell_type": "markdown",
   "id": "84638e14",
   "metadata": {},
   "source": [
    "# GRADIENT BOOSTING "
   ]
  },
  {
   "cell_type": "code",
   "execution_count": 34,
   "id": "86d3876f",
   "metadata": {},
   "outputs": [],
   "source": [
    "from sklearn.ensemble import GradientBoostingClassifier"
   ]
  },
  {
   "cell_type": "code",
   "execution_count": 35,
   "id": "5e24d5a9",
   "metadata": {},
   "outputs": [],
   "source": [
    "gb_clf2 = GradientBoostingClassifier(n_estimators=170, learning_rate=0.1, max_features=4, max_depth=2, random_state=0)"
   ]
  },
  {
   "cell_type": "code",
   "execution_count": 36,
   "id": "486697e4",
   "metadata": {},
   "outputs": [
    {
     "data": {
      "text/plain": [
       "GradientBoostingClassifier(max_depth=2, max_features=4, n_estimators=170,\n",
       "                           random_state=0)"
      ]
     },
     "execution_count": 36,
     "metadata": {},
     "output_type": "execute_result"
    }
   ],
   "source": [
    "gb_clf2.fit(tfidf_matrix, actual_labels)"
   ]
  },
  {
   "cell_type": "code",
   "execution_count": 37,
   "id": "623c3ad1",
   "metadata": {},
   "outputs": [],
   "source": [
    "pred_gb = gb_clf2.predict(tfidf_test)"
   ]
  },
  {
   "cell_type": "code",
   "execution_count": 38,
   "id": "84e1d350",
   "metadata": {},
   "outputs": [
    {
     "name": "stdout",
     "output_type": "stream",
     "text": [
      "Accuracy using Gradient Boosting: 0.4866666666666667\n",
      "Precision using Gradient Boosting: 0.5890378476972185\n",
      "Recall using Gradient Boosting: 0.4866666666666667\n",
      "F1 using Gradient Boosting: 0.43562814287108875\n",
      "Confusion Matrix using Gradient Boosting: [[64  0 56]\n",
      " [26  1 33]\n",
      " [39  0 81]]\n"
     ]
    }
   ],
   "source": [
    "acc_gb = accuracy_score(actual_labels_test, pred_gb)\n",
    "precision_gb = precision_score(actual_labels_test, pred_gb, average='weighted')\n",
    "recall_gb = recall_score(actual_labels_test, pred_gb, average='weighted')\n",
    "f1_gb = f1_score(actual_labels_test, pred_gb, average='weighted')\n",
    "cm_gb = confusion_matrix(actual_labels_test, pred_gb)\n",
    "\n",
    "print(f'Accuracy using Gradient Boosting: {acc_gb}')\n",
    "print(f'Precision using Gradient Boosting: {precision_gb}')\n",
    "print(f'Recall using Gradient Boosting: {recall_gb}')\n",
    "print(f'F1 using Gradient Boosting: {f1_gb}')\n",
    "print(f'Confusion Matrix using Gradient Boosting: {cm_gb}')"
   ]
  },
  {
   "cell_type": "markdown",
   "id": "56f9a261",
   "metadata": {},
   "source": [
    "# GRID SEARCH - MODELS"
   ]
  },
  {
   "cell_type": "code",
   "execution_count": 54,
   "id": "86637aaf",
   "metadata": {},
   "outputs": [],
   "source": [
    "import numpy as np\n",
    "from sklearn.model_selection import GridSearchCV\n",
    "from sklearn.model_selection import KFold"
   ]
  },
  {
   "cell_type": "code",
   "execution_count": 55,
   "id": "a52eb6d9",
   "metadata": {},
   "outputs": [],
   "source": [
    "# SVM Combinations\n",
    "svc_linear_search = SVC(random_state=0)\n",
    "svc_params = {\n",
    "    # default 1\n",
    "    'C' : np.arange(0.1,1.1,0.1),\n",
    "    'kernel' : ['linear', 'rbf', 'poly', 'sigmoid'],\n",
    "    'degree' : np.arange(1,4,1),\n",
    "    'decision_function_shape' : ['ovo','ovr']\n",
    "}\n",
    "\n",
    "# Logistic Regression\n",
    "# class_weight????\n",
    "lrg_search = LogisticRegression(class_weight={0:2,1:3,2:2}, random_state=0)\n",
    "lrg_params = {\n",
    "    'solver' : ['lbfgs', 'sag', 'saga'],\n",
    "    'C' : np.arange(0.1,1.1,0.1),\n",
    "    'max_iter' : np.arange(1000,2000,200)\n",
    "}\n",
    "\n",
    "# Naive Bayes\n",
    "# No parameters\n",
    "\n",
    "# Gradient Boost\n",
    "# max_features????\n",
    "gb_search = GradientBoostingClassifier(max_features=4, random_state=0)\n",
    "gb_params = {\n",
    "    \"learning_rate\" : np.arange(0.01,0.1,0.01),\n",
    "    \"n_estimators\" : np.arange(100,200,10),\n",
    "    \"max_depth\" : np.arange(2,5,1),\n",
    "}"
   ]
  },
  {
   "cell_type": "code",
   "execution_count": 56,
   "id": "4c32204a",
   "metadata": {},
   "outputs": [],
   "source": [
    "# Build collection of models to test\n",
    "models = { \n",
    "    'svc_linear' : {'model': svc_linear_search, 'params' : svc_params},\n",
    "    \"lrg\" : {'model': lrg_search, 'params' : lrg_params},\n",
    "    \"gb\" : {'model': gb_search, 'params' : gb_params}\n",
    "}"
   ]
  },
  {
   "cell_type": "code",
   "execution_count": 58,
   "id": "fac27bf8",
   "metadata": {},
   "outputs": [
    {
     "name": "stdout",
     "output_type": "stream",
     "text": [
      "\n",
      "\n",
      "#GRID SEARCH\n",
      "\n",
      "GridSearch Analysis SVC(random_state=0)\n",
      "Fitting 5 folds for each of 240 candidates, totalling 1200 fits\n"
     ]
    },
    {
     "name": "stderr",
     "output_type": "stream",
     "text": [
      "C:\\Dev\\anaconda3\\envs\\comp262_2\\lib\\site-packages\\sklearn\\metrics\\_classification.py:1318: UndefinedMetricWarning: Precision is ill-defined and being set to 0.0 in labels with no predicted samples. Use `zero_division` parameter to control this behavior.\n",
      "  _warn_prf(average, modifier, msg_start, len(result))\n"
     ]
    },
    {
     "name": "stdout",
     "output_type": "stream",
     "text": [
      "Accuracy: 0.58\n",
      "Precision: 0.46451383011892566\n",
      "Recall: 0.58\n",
      "F1: 0.5155948442711836\n",
      "Confusion Matrix: \n",
      "[[89  0 31]\n",
      " [33  0 27]\n",
      " [35  0 85]]\n",
      "\n",
      "Best Parameters\n",
      "{'C': 1.0, 'decision_function_shape': 'ovo', 'degree': 1, 'kernel': 'rbf'}\n",
      "\n",
      "GridSearch Analysis LogisticRegression(class_weight={0: 2, 1: 3, 2: 2}, random_state=0)\n",
      "Fitting 5 folds for each of 150 candidates, totalling 750 fits\n",
      "Accuracy: 0.56\n",
      "Precision: 0.5348405033655254\n",
      "Recall: 0.56\n",
      "F1: 0.5401383420822398\n",
      "Confusion Matrix: \n",
      "[[79  8 33]\n",
      " [26 10 24]\n",
      " [29 12 79]]\n",
      "\n",
      "Best Parameters\n",
      "{'C': 0.5, 'max_iter': 1000, 'solver': 'lbfgs'}\n",
      "\n",
      "GridSearch Analysis GradientBoostingClassifier(max_features=4, random_state=0)\n",
      "Fitting 5 folds for each of 270 candidates, totalling 1350 fits\n",
      "Accuracy: 0.48333333333333334\n",
      "Precision: 0.45483831530044627\n",
      "Recall: 0.48333333333333334\n",
      "F1: 0.43441801445475664\n",
      "Confusion Matrix: \n",
      "[[65  2 53]\n",
      " [27  1 32]\n",
      " [41  0 79]]\n",
      "\n",
      "Best Parameters\n",
      "{'learning_rate': 0.09, 'max_depth': 3, 'n_estimators': 190}\n"
     ]
    }
   ],
   "source": [
    "# GridSearch >> find best hyperparameters\n",
    "# Reduced splits for testing\n",
    "# cv = KFold(n_splits=5, shuffle=True, random_state=31)\n",
    "cv = None\n",
    "\n",
    "# training >> tfidf_matrix, actual_labels\n",
    "# testing >> tfidf_test, actual_labels_test\n",
    "\n",
    "print('\\n\\n#GRID SEARCH')\n",
    "for model_id in models:\n",
    "    \n",
    "    classifier = models[model_id]\n",
    "    print('\\nGridSearch Analysis', classifier['model'])\n",
    "    gs = GridSearchCV(classifier['model'], classifier['params'], \n",
    "                      cv=cv, n_jobs=-1, verbose=2)\n",
    "    gs.fit(tfidf_matrix, actual_labels)\n",
    "    gs_pred = gs.predict(tfidf_test)\n",
    "    \n",
    "    # Scores\n",
    "    accuracy = accuracy_score(actual_labels_test, gs_pred)\n",
    "    precision = precision_score(actual_labels_test, gs_pred, average='weighted')\n",
    "    recall = recall_score(actual_labels_test, gs_pred, average='weighted')\n",
    "    f1 = f1_score(actual_labels_test, gs_pred, average='weighted')\n",
    "    cm = confusion_matrix(actual_labels_test, gs_pred)\n",
    "    \n",
    "    print(f'Accuracy: {accuracy}')\n",
    "    print(f'Precision: {precision}')\n",
    "    print(f'Recall: {recall}')\n",
    "    print(f'F1: {f1}')\n",
    "    print(f'Confusion Matrix: \\n{cm}\\n')\n",
    "    \n",
    "    print('Best Parameters')\n",
    "    print(gs.best_params_)\n",
    "\n"
   ]
  }
 ],
 "metadata": {
  "kernelspec": {
   "display_name": "Python 3",
   "language": "python",
   "name": "python3"
  },
  "language_info": {
   "codemirror_mode": {
    "name": "ipython",
    "version": 3
   },
   "file_extension": ".py",
   "mimetype": "text/x-python",
   "name": "python",
   "nbconvert_exporter": "python",
   "pygments_lexer": "ipython3",
   "version": "3.8.12"
  }
 },
 "nbformat": 4,
 "nbformat_minor": 5
}
